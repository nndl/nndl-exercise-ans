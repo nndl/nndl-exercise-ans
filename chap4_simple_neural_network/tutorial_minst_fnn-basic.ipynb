{
 "cells": [
  {
   "cell_type": "markdown",
   "metadata": {},
   "source": [
    "## 准备数据"
   ]
  },
  {
   "cell_type": "code",
   "execution_count": 1,
   "metadata": {},
   "outputs": [],
   "source": [
    "import os\n",
    "import numpy as np\n",
    "import tensorflow as tf\n",
    "from tensorflow import keras\n",
    "from tensorflow.keras import layers, optimizers, datasets\n",
    "\n",
    "os.environ['TF_CPP_MIN_LOG_LEVEL'] = '2'  # or any {'0', '1', '2'}\n",
    "\n",
    "def mnist_dataset():\n",
    "    (x, y), (x_test, y_test) = datasets.mnist.load_data()\n",
    "    #normalize\n",
    "    x = x/255.0\n",
    "    x_test = x_test/255.0\n",
    "    \n",
    "    return (x, y), (x_test, y_test)"
   ]
  },
  {
   "cell_type": "code",
   "execution_count": 2,
   "metadata": {},
   "outputs": [
    {
     "name": "stdout",
     "output_type": "stream",
     "text": [
      "[(1, 'a'), (2, 'b'), (3, 'c'), (4, 'd')]\n"
     ]
    }
   ],
   "source": [
    "print(list(zip([1, 2, 3, 4], ['a', 'b', 'c', 'd'])))"
   ]
  },
  {
   "cell_type": "markdown",
   "metadata": {},
   "source": [
    "## 建立模型"
   ]
  },
  {
   "cell_type": "code",
   "execution_count": 2,
   "metadata": {},
   "outputs": [],
   "source": [
    "class myModel:\n",
    "    def __init__(self):\n",
    "        self.W1 = tf.Variable(shape=[28*28, 100], dtype=tf.float32,\n",
    "                         initial_value=tf.random.uniform(shape=[28*28, 100],\n",
    "                                                         minval=-0.1, maxval=0.1))\n",
    "        self.b1 = tf.Variable(shape=[100], dtype=tf.float32, initial_value=tf.zeros(100))\n",
    "        self.W2 = tf.Variable(shape=[100, 10], dtype=tf.float32,\n",
    "                         initial_value=tf.random.uniform(shape=[100, 10],\n",
    "                                                         minval=-0.1, maxval=0.1))\n",
    "        self.b2 = tf.Variable(shape=[10], dtype=tf.float32, initial_value=tf.zeros(10))\n",
    "    def __call__(self, x):\n",
    "        flat_x = tf.reshape(x, shape=[-1, 28*28])\n",
    "        h1 = tf.tanh(tf.matmul(flat_x, self.W1) + self.b1)\n",
    "        logits = tf.matmul(h1, self.W2) + self.b2\n",
    "        return logits\n",
    "        \n",
    "model = myModel()\n",
    "\n",
    "optimizer = optimizers.Adam()"
   ]
  },
  {
   "cell_type": "markdown",
   "metadata": {},
   "source": [
    "## 计算 loss"
   ]
  },
  {
   "cell_type": "code",
   "execution_count": 3,
   "metadata": {},
   "outputs": [],
   "source": [
    "@tf.function\n",
    "def compute_loss(logits, labels):\n",
    "    return tf.reduce_mean(\n",
    "        tf.nn.sparse_softmax_cross_entropy_with_logits(\n",
    "            logits=logits, labels=labels))\n",
    "\n",
    "@tf.function\n",
    "def compute_accuracy(logits, labels):\n",
    "    predictions = tf.argmax(logits, axis=1)\n",
    "    return tf.reduce_mean(tf.cast(tf.equal(predictions, labels), tf.float32))\n",
    "\n",
    "@tf.function\n",
    "def train_one_step(model, optimizer, x, y):\n",
    "    with tf.GradientTape() as tape:\n",
    "        logits = model(x)\n",
    "        loss = compute_loss(logits, y)\n",
    "\n",
    "    # compute gradient\n",
    "    trainable_vars = [model.W1, model.W2, model.b1, model.b2]\n",
    "    grads = tape.gradient(loss, trainable_vars)\n",
    "    for g, v in zip(grads, trainable_vars):\n",
    "        v.assign_sub(0.01*g)\n",
    "\n",
    "    accuracy = compute_accuracy(logits, y)\n",
    "\n",
    "    # loss and accuracy is scalar tensor\n",
    "    return loss, accuracy\n",
    "\n",
    "@tf.function\n",
    "def test(model, x, y):\n",
    "    logits = model(x)\n",
    "    loss = compute_loss(logits, y)\n",
    "    accuracy = compute_accuracy(logits, y)\n",
    "    return loss, accuracy"
   ]
  },
  {
   "cell_type": "markdown",
   "metadata": {},
   "source": [
    "## 实际训练"
   ]
  },
  {
   "cell_type": "code",
   "execution_count": 4,
   "metadata": {},
   "outputs": [
    {
     "name": "stdout",
     "output_type": "stream",
     "text": [
      "epoch 0 : loss 2.3515916 ; accuracy 0.1055\n",
      "epoch 1 : loss 2.3465188 ; accuracy 0.1068\n",
      "epoch 2 : loss 2.3414927 ; accuracy 0.10845\n",
      "epoch 3 : loss 2.336513 ; accuracy 0.11001667\n",
      "epoch 4 : loss 2.3315775 ; accuracy 0.11155\n",
      "epoch 5 : loss 2.326685 ; accuracy 0.113866664\n",
      "epoch 6 : loss 2.3218336 ; accuracy 0.11573333\n",
      "epoch 7 : loss 2.3170218 ; accuracy 0.11775\n",
      "epoch 8 : loss 2.312249 ; accuracy 0.11998333\n",
      "epoch 9 : loss 2.307513 ; accuracy 0.12211667\n",
      "epoch 10 : loss 2.3028133 ; accuracy 0.124516666\n",
      "epoch 11 : loss 2.2981484 ; accuracy 0.1269\n",
      "epoch 12 : loss 2.293517 ; accuracy 0.12961666\n",
      "epoch 13 : loss 2.2889185 ; accuracy 0.13218333\n",
      "epoch 14 : loss 2.284351 ; accuracy 0.13483334\n",
      "epoch 15 : loss 2.279814 ; accuracy 0.13766667\n",
      "epoch 16 : loss 2.2753067 ; accuracy 0.14066666\n",
      "epoch 17 : loss 2.270828 ; accuracy 0.14391667\n",
      "epoch 18 : loss 2.2663767 ; accuracy 0.14741667\n",
      "epoch 19 : loss 2.2619524 ; accuracy 0.15088333\n",
      "epoch 20 : loss 2.2575536 ; accuracy 0.15416667\n",
      "epoch 21 : loss 2.25318 ; accuracy 0.15796667\n",
      "epoch 22 : loss 2.2488308 ; accuracy 0.16148333\n",
      "epoch 23 : loss 2.244505 ; accuracy 0.16556667\n",
      "epoch 24 : loss 2.2402015 ; accuracy 0.16963333\n",
      "epoch 25 : loss 2.235921 ; accuracy 0.17355\n",
      "epoch 26 : loss 2.2316608 ; accuracy 0.17816667\n",
      "epoch 27 : loss 2.2274218 ; accuracy 0.18288334\n",
      "epoch 28 : loss 2.2232032 ; accuracy 0.18841666\n",
      "epoch 29 : loss 2.2190032 ; accuracy 0.19388333\n",
      "epoch 30 : loss 2.2148223 ; accuracy 0.2\n",
      "epoch 31 : loss 2.21066 ; accuracy 0.20613334\n",
      "epoch 32 : loss 2.2065148 ; accuracy 0.21248333\n",
      "epoch 33 : loss 2.202387 ; accuracy 0.21893333\n",
      "epoch 34 : loss 2.1982758 ; accuracy 0.22548333\n",
      "epoch 35 : loss 2.1941805 ; accuracy 0.23245\n",
      "epoch 36 : loss 2.1901007 ; accuracy 0.23943333\n",
      "epoch 37 : loss 2.1860363 ; accuracy 0.246\n",
      "epoch 38 : loss 2.1819863 ; accuracy 0.25371668\n",
      "epoch 39 : loss 2.1779506 ; accuracy 0.26095\n",
      "epoch 40 : loss 2.1739285 ; accuracy 0.26805\n",
      "epoch 41 : loss 2.1699197 ; accuracy 0.27546668\n",
      "epoch 42 : loss 2.1659238 ; accuracy 0.28286666\n",
      "epoch 43 : loss 2.1619406 ; accuracy 0.29021665\n",
      "epoch 44 : loss 2.1579692 ; accuracy 0.29841667\n",
      "epoch 45 : loss 2.1540098 ; accuracy 0.30605\n",
      "epoch 46 : loss 2.1500616 ; accuracy 0.31301665\n",
      "epoch 47 : loss 2.1461246 ; accuracy 0.32068333\n",
      "epoch 48 : loss 2.142198 ; accuracy 0.32855\n",
      "epoch 49 : loss 2.138282 ; accuracy 0.33641666\n",
      "test loss 2.1321955 ; accuracy 0.3403\n"
     ]
    }
   ],
   "source": [
    "train_data, test_data = mnist_dataset()\n",
    "for epoch in range(50):\n",
    "    loss, accuracy = train_one_step(model, optimizer, \n",
    "                                    tf.constant(train_data[0], dtype=tf.float32), \n",
    "                                    tf.constant(train_data[1], dtype=tf.int64))\n",
    "    print('epoch', epoch, ': loss', loss.numpy(), '; accuracy', accuracy.numpy())\n",
    "loss, accuracy = test(model, \n",
    "                      tf.constant(test_data[0], dtype=tf.float32), \n",
    "                      tf.constant(test_data[1], dtype=tf.int64))\n",
    "\n",
    "print('test loss', loss.numpy(), '; accuracy', accuracy.numpy())"
   ]
  },
  {
   "cell_type": "code",
   "execution_count": null,
   "metadata": {},
   "outputs": [],
   "source": []
  },
  {
   "cell_type": "code",
   "execution_count": null,
   "metadata": {},
   "outputs": [],
   "source": []
  },
  {
   "cell_type": "code",
   "execution_count": null,
   "metadata": {},
   "outputs": [],
   "source": []
  }
 ],
 "metadata": {
  "kernelspec": {
   "display_name": "Python 3",
   "language": "python",
   "name": "python3"
  },
  "language_info": {
   "codemirror_mode": {
    "name": "ipython",
    "version": 3
   },
   "file_extension": ".py",
   "mimetype": "text/x-python",
   "name": "python",
   "nbconvert_exporter": "python",
   "pygments_lexer": "ipython3",
   "version": "3.7.0"
  }
 },
 "nbformat": 4,
 "nbformat_minor": 2
}