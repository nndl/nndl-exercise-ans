{
 "cells": [
  {
   "cell_type": "markdown",
   "metadata": {},
   "source": [
    "## 准备数据"
   ]
  },
  {
   "cell_type": "code",
   "execution_count": 1,
   "metadata": {},
   "outputs": [],
   "source": [
    "import os\n",
    "import tensorflow as tf\n",
    "from tensorflow import keras\n",
    "from tensorflow.keras import layers, optimizers, datasets\n",
    "\n",
    "os.environ['TF_CPP_MIN_LOG_LEVEL'] = '2'  # or any {'0', '1', '2'}\n",
    "\n",
    "def mnist_dataset():\n",
    "    (x, y), (x_test, y_test) = datasets.mnist.load_data()\n",
    "    ds = tf.data.Dataset.from_tensor_slices((x, y))\n",
    "    ds = ds.map(prepare_mnist_features_and_labels)\n",
    "    ds = ds.take(20000).shuffle(20000).batch(32)\n",
    "    \n",
    "    test_ds = tf.data.Dataset.from_tensor_slices((x_test, y_test))\n",
    "    test_ds = test_ds.map(prepare_mnist_features_and_labels)\n",
    "    test_ds = test_ds.take(20000).shuffle(20000).batch(20000)\n",
    "    return ds, test_ds\n",
    "\n",
    "def prepare_mnist_features_and_labels(x, y):\n",
    "    x = tf.cast(x, tf.float32) / 255.0\n",
    "    y = tf.cast(y, tf.int64)\n",
    "    return x, y"
   ]
  },
  {
   "cell_type": "markdown",
   "metadata": {},
   "source": [
    "## 建立模型"
   ]
  },
  {
   "cell_type": "code",
   "execution_count": 2,
   "metadata": {},
   "outputs": [],
   "source": [
    "class myModel:\n",
    "    def __init__(self):\n",
    "        self.W1 = tf.Variable(shape=[28*28, 100], dtype=tf.float32,\n",
    "                         initial_value=tf.random.uniform(shape=[28*28, 100],\n",
    "                                                         minval=-0.1, maxval=0.1))\n",
    "        self.b1 = tf.Variable(shape=[100], dtype=tf.float32, initial_value=tf.zeros(100))\n",
    "        self.W2 = tf.Variable(shape=[100, 10], dtype=tf.float32,\n",
    "                         initial_value=tf.random.uniform(shape=[100, 10],\n",
    "                                                         minval=-0.1, maxval=0.1))\n",
    "        self.b2 = tf.Variable(shape=[10], dtype=tf.float32, initial_value=tf.zeros(10))\n",
    "        self.trainable_variables = [self.W1, self.W2, self.b1, self.b2]\n",
    "    def __call__(self, x):\n",
    "        flat_x = tf.reshape(x, shape=[-1, 28*28])\n",
    "        h1 = tf.tanh(tf.matmul(flat_x, self.W1) + self.b1)\n",
    "        logits = tf.matmul(h1, self.W2) + self.b2\n",
    "        return logits\n",
    "        \n",
    "model = myModel()\n",
    "\n",
    "optimizer = optimizers.Adam()"
   ]
  },
  {
   "cell_type": "markdown",
   "metadata": {},
   "source": [
    "## 定义loss以及train loop"
   ]
  },
  {
   "cell_type": "code",
   "execution_count": 3,
   "metadata": {},
   "outputs": [],
   "source": [
    "@tf.function\n",
    "def compute_loss(logits, labels):\n",
    "    return tf.reduce_mean(\n",
    "        tf.nn.sparse_softmax_cross_entropy_with_logits(\n",
    "            logits=logits, labels=labels))\n",
    "\n",
    "@tf.function\n",
    "def compute_accuracy(logits, labels):\n",
    "    predictions = tf.argmax(logits, axis=1)\n",
    "    return tf.reduce_mean(tf.cast(tf.equal(predictions, labels), tf.float32))\n",
    "\n",
    "@tf.function\n",
    "def train_one_step(model, optimizer, x, y):\n",
    "\n",
    "    with tf.GradientTape() as tape:\n",
    "        logits = model(x)\n",
    "        loss = compute_loss(logits, y)\n",
    "\n",
    "    # compute gradient\n",
    "    grads = tape.gradient(loss, model.trainable_variables)\n",
    "    # update to weights\n",
    "    optimizer.apply_gradients(zip(grads, model.trainable_variables))\n",
    "\n",
    "    accuracy = compute_accuracy(logits, y)\n",
    "\n",
    "    # loss and accuracy is scalar tensor\n",
    "    return loss, accuracy\n",
    "\n",
    "@tf.function\n",
    "def test_step(model, x, y):\n",
    "    logits = model(x)\n",
    "    loss = compute_loss(logits, y)\n",
    "    accuracy = compute_accuracy(logits, y)\n",
    "    return loss, accuracy\n",
    "\n",
    "def train(epoch, model, optimizer, ds):\n",
    "    loss = 0.0\n",
    "    accuracy = 0.0\n",
    "    for step, (x, y) in enumerate(ds):\n",
    "        loss, accuracy = train_one_step(model, optimizer, x, y)\n",
    "\n",
    "        if step % 500 == 0:\n",
    "            print('epoch', epoch, ': loss', loss.numpy(), '; accuracy', accuracy.numpy())\n",
    "\n",
    "    return loss, accuracy\n",
    "def test(model, ds):\n",
    "    loss = 0.0\n",
    "    accuracy = 0.0\n",
    "    for step, (x, y) in enumerate(ds):\n",
    "        loss, accuracy = test_step(model, x, y)\n",
    "\n",
    "        \n",
    "    print('test loss', loss.numpy(), '; accuracy', accuracy.numpy())\n",
    "\n",
    "    return loss, accuracy"
   ]
  },
  {
   "cell_type": "markdown",
   "metadata": {},
   "source": [
    "# 训练"
   ]
  },
  {
   "cell_type": "code",
   "execution_count": 4,
   "metadata": {},
   "outputs": [
    {
     "name": "stdout",
     "output_type": "stream",
     "text": [
      "epoch 0 : loss 2.294207 ; accuracy 0.09375\n",
      "epoch 0 : loss 0.18008514 ; accuracy 0.90625\n",
      "epoch 1 : loss 0.14521918 ; accuracy 0.96875\n",
      "epoch 1 : loss 0.28605914 ; accuracy 0.9375\n",
      "epoch 2 : loss 0.13244194 ; accuracy 0.96875\n",
      "epoch 2 : loss 0.15434392 ; accuracy 0.9375\n",
      "epoch 3 : loss 0.08066891 ; accuracy 1.0\n",
      "epoch 3 : loss 0.066992395 ; accuracy 0.96875\n",
      "epoch 4 : loss 0.10058613 ; accuracy 0.96875\n",
      "epoch 4 : loss 0.19552815 ; accuracy 0.90625\n",
      "test loss 0.15452445 ; accuracy 0.9536\n"
     ]
    }
   ],
   "source": [
    "train_ds, test_ds = mnist_dataset()\n",
    "for epoch in range(5):\n",
    "    loss, accuracy = train(epoch, model, optimizer, train_ds)\n",
    "loss, accuracy = test(model, test_ds)"
   ]
  },
  {
   "cell_type": "code",
   "execution_count": null,
   "metadata": {},
   "outputs": [],
   "source": []
  },
  {
   "cell_type": "code",
   "execution_count": null,
   "metadata": {},
   "outputs": [],
   "source": []
  }
 ],
 "metadata": {
  "kernelspec": {
   "display_name": "Python 3",
   "language": "python",
   "name": "python3"
  },
  "language_info": {
   "codemirror_mode": {
    "name": "ipython",
    "version": 3
   },
   "file_extension": ".py",
   "mimetype": "text/x-python",
   "name": "python",
   "nbconvert_exporter": "python",
   "pygments_lexer": "ipython3",
   "version": "3.7.0"
  }
 },
 "nbformat": 4,
 "nbformat_minor": 2
}