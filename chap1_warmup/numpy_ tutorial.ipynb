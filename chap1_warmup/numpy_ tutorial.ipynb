{
 "cells": [
  {
   "cell_type": "markdown",
   "metadata": {},
   "source": [
    "#                                           numpy 练习题"
   ]
  },
  {
   "cell_type": "markdown",
   "metadata": {
    "collapsed": true
   },
   "source": [
    " "
   ]
  },
  {
   "cell_type": "markdown",
   "metadata": {},
   "source": [
    "### numpy 的array操作"
   ]
  },
  {
   "cell_type": "markdown",
   "metadata": {},
   "source": [
    "#### 1.导入numpy库"
   ]
  },
  {
   "cell_type": "code",
   "execution_count": 1,
   "metadata": {
    "collapsed": true,
    "pycharm": {
     "is_executing": true
    }
   },
   "outputs": [],
   "source": [
    "import numpy as np"
   ]
  },
  {
   "cell_type": "markdown",
   "metadata": {},
   "source": [
    "#### 2.建立一个一维数组 a 初始化为[4,5,6], (1)输出a 的类型（type）(2)输出a的各维度的大小（shape）(3)输出 a的第一个元素（值为4）"
   ]
  },
  {
   "cell_type": "code",
   "execution_count": 2,
   "metadata": {
    "pycharm": {
     "is_executing": true
    }
   },
   "outputs": [
    {
     "name": "stdout",
     "output_type": "stream",
     "text": [
      "<class 'numpy.ndarray'>\n",
      "(3,)\n",
      "4\n"
     ]
    }
   ],
   "source": [
    "a = np.array([4,5,6])\n",
    "print(type(a))\n",
    "print(a.shape)\n",
    "print(a[0])\n"
   ]
  },
  {
   "cell_type": "markdown",
   "metadata": {},
   "source": [
    "#### 3.建立一个二维数组 b,初始化为 [ [4, 5, 6],[1, 2, 3]] (1)输出各维度的大小（shape）(2)输出 b(0,0)，b(0,1),b(1,1) 这三个元素（对应值分别为4,5,2）"
   ]
  },
  {
   "cell_type": "code",
   "execution_count": 30,
   "metadata": {
    "pycharm": {
     "is_executing": true
    }
   },
   "outputs": [
    {
     "name": "stdout",
     "output_type": "stream",
     "text": [
      "(2, 3)\n",
      "4 5 2\n"
     ]
    }
   ],
   "source": [
    "b = np.array([[4,5,6],[1,2,3]])\n",
    "print(b.shape)\n",
    "print(b[0,0],b[0,1],b[1,1])"
   ]
  },
  {
   "cell_type": "markdown",
   "metadata": {},
   "source": [
    "#### 4.  (1)建立一个全0矩阵 a, 大小为 3x3; 类型为整型（提示: dtype = int）(2)建立一个全1矩阵b,大小为4x5;  (3)建立一个单位矩阵c ,大小为4x4; (4)生成一个随机数矩阵d,大小为 3x2."
   ]
  },
  {
   "cell_type": "code",
   "execution_count": 4,
   "metadata": {
    "pycharm": {
     "is_executing": true
    }
   },
   "outputs": [
    {
     "name": "stdout",
     "output_type": "stream",
     "text": [
      "[[0 0 0]\n",
      " [0 0 0]\n",
      " [0 0 0]] [[1. 1. 1. 1. 1.]\n",
      " [1. 1. 1. 1. 1.]\n",
      " [1. 1. 1. 1. 1.]\n",
      " [1. 1. 1. 1. 1.]] [[1. 0. 0. 0.]\n",
      " [0. 1. 0. 0.]\n",
      " [0. 0. 1. 0.]\n",
      " [0. 0. 0. 1.]] [[0.828445   0.51299731]\n",
      " [0.48009419 0.35821795]\n",
      " [0.69911583 0.14173806]]\n"
     ]
    }
   ],
   "source": [
    "a = np.zeros(shape=(3,3),dtype=int)\n",
    "b = np.ones((4,5))\n",
    "c = np.identity(4)\n",
    "d = np.random.random((3,2))\n",
    "\n",
    "print(a,b,c,d)"
   ]
  },
  {
   "cell_type": "markdown",
   "metadata": {},
   "source": [
    "#### 5. 建立一个数组 a,(值为[[1, 2, 3, 4], [5, 6, 7, 8], [9, 10, 11, 12]] ) ,(1)打印a; (2)输出  下标为(2,3),(0,0) 这两个数组元素的值"
   ]
  },
  {
   "cell_type": "code",
   "execution_count": 31,
   "metadata": {
    "pycharm": {
     "is_executing": true
    }
   },
   "outputs": [
    {
     "name": "stdout",
     "output_type": "stream",
     "text": [
      "[[ 1  2  3  4]\n",
      " [ 5  6  7  8]\n",
      " [ 9 10 11 12]]\n",
      "12 1\n"
     ]
    }
   ],
   "source": [
    "a = np.array([[1, 2, 3, 4], [5, 6, 7, 8], [9, 10, 11, 12]])\n",
    "print(a)\n",
    "print(a[2,3],a[0,0])"
   ]
  },
  {
   "cell_type": "markdown",
   "metadata": {},
   "source": [
    "#### 6.把上一题的 a数组的 0到1行 2到3列，放到b里面去，（此处不需要从新建立a,直接调用即可）(1),输出b;(2) 输出b 的（0,0）这个元素的值"
   ]
  },
  {
   "cell_type": "code",
   "execution_count": 38,
   "metadata": {
    "pycharm": {
     "is_executing": true
    }
   },
   "outputs": [
    {
     "name": "stdout",
     "output_type": "stream",
     "text": [
      "[[3 4]\n",
      " [7 8]]\n",
      "3\n"
     ]
    }
   ],
   "source": [
    "# [0,1]行，[2,3]列\n",
    "b = np.array(a[0:2,2:4])\n",
    "# [0,1) 行，[2,3）列\n",
    "# b = np.array(a[0:1,2:3])\n",
    "print(b)\n",
    "print(b[0,0])"
   ]
  },
  {
   "cell_type": "markdown",
   "metadata": {},
   "source": [
    " #### 7. 把第5题中数组a的最后两行所有元素放到 c中，（提示： a[1:2, :]）(1)输出 c ; (2) 输出 c 中第一行的最后一个元素（提示，使用 -1                 表示最后一个元素）"
   ]
  },
  {
   "cell_type": "code",
   "execution_count": 39,
   "metadata": {
    "pycharm": {
     "is_executing": true
    }
   },
   "outputs": [
    {
     "name": "stdout",
     "output_type": "stream",
     "text": [
      "[[ 5  6  7  8]\n",
      " [ 9 10 11 12]]\n",
      "8\n"
     ]
    }
   ],
   "source": [
    "c = np.array(a[-2:,:])\n",
    "print(c)\n",
    "print(c[0,-1])"
   ]
  },
  {
   "cell_type": "markdown",
   "metadata": {},
   "source": [
    "#### 8.建立数组a,初始化a为[[1, 2], [3, 4], [5, 6]]，输出 （0,0）（1,1）（2,0）这三个元素（提示： 使用 print(a[[0, 1, 2], [0, 1, 0]]) ）"
   ]
  },
  {
   "cell_type": "code",
   "execution_count": 8,
   "metadata": {
    "pycharm": {
     "is_executing": true
    }
   },
   "outputs": [
    {
     "name": "stdout",
     "output_type": "stream",
     "text": [
      "[1 4 5]\n"
     ]
    }
   ],
   "source": [
    "a = np.array([[1, 2], [3, 4], [5, 6]])\n",
    "print(a[[0,1,2],[0,1,0]])"
   ]
  },
  {
   "cell_type": "markdown",
   "metadata": {},
   "source": [
    "#### 9.建立矩阵a ,初始化为[[1, 2, 3], [4, 5, 6], [7, 8, 9], [10, 11, 12]]，输出(0,0),(1,2),(2,0),(3,1) (提示使用 b = np.array([0, 2, 0, 1])                     print(a[np.arange(4), b]))"
   ]
  },
  {
   "cell_type": "code",
   "execution_count": 9,
   "metadata": {
    "pycharm": {
     "is_executing": true
    }
   },
   "outputs": [
    {
     "name": "stdout",
     "output_type": "stream",
     "text": [
      "[ 1  6  7 11]\n"
     ]
    }
   ],
   "source": [
    "a = np.array([[1, 2, 3], [4, 5, 6], [7, 8, 9], [10, 11, 12]])\n",
    "\n",
    "b = np.array([0,2,0,1])\n",
    "\n",
    "print(a[np.arange(4),b])\n"
   ]
  },
  {
   "cell_type": "markdown",
   "metadata": {},
   "source": [
    "#### 10.对9 中输出的那四个元素，每个都加上10，然后重新输出矩阵a.(提示： a[np.arange(4), b] += 10 ）"
   ]
  },
  {
   "cell_type": "code",
   "execution_count": 10,
   "metadata": {
    "pycharm": {
     "is_executing": true
    }
   },
   "outputs": [
    {
     "name": "stdout",
     "output_type": "stream",
     "text": [
      "[[11  2  3]\n",
      " [ 4  5 16]\n",
      " [17  8  9]\n",
      " [10 21 12]]\n"
     ]
    }
   ],
   "source": [
    "a[np.arange(4),b] += 10\n",
    "print(a)"
   ]
  },
  {
   "cell_type": "markdown",
   "metadata": {},
   "source": [
    "### array 的数学运算"
   ]
  },
  {
   "cell_type": "markdown",
   "metadata": {},
   "source": [
    "#### 11.  执行 x = np.array([1, 2])，然后输出 x 的数据类型"
   ]
  },
  {
   "cell_type": "code",
   "execution_count": 11,
   "metadata": {
    "pycharm": {
     "is_executing": true
    }
   },
   "outputs": [
    {
     "name": "stdout",
     "output_type": "stream",
     "text": [
      "[[11  2  3]\n",
      " [ 4  5 16]\n",
      " [17  8  9]\n",
      " [10 21 12]]\n",
      "int32\n"
     ]
    }
   ],
   "source": [
    "x = np.array([1,2])\n",
    "\n",
    "print(x.dtype)\n"
   ]
  },
  {
   "cell_type": "markdown",
   "metadata": {},
   "source": [
    "#### 12.执行 x = np.array([1.0, 2.0]) ，然后输出 x 的数据类类型"
   ]
  },
  {
   "cell_type": "code",
   "execution_count": 12,
   "metadata": {
    "pycharm": {
     "is_executing": true
    }
   },
   "outputs": [
    {
     "name": "stdout",
     "output_type": "stream",
     "text": [
      "float64\n"
     ]
    }
   ],
   "source": [
    "x = np.array([1.0,2.0])\n",
    "\n",
    "print(x.dtype)"
   ]
  },
  {
   "cell_type": "markdown",
   "metadata": {},
   "source": [
    "#### 13.执行 x = np.array([[1, 2], [3, 4]], dtype=np.float64) ，y = np.array([[5, 6], [7, 8]], dtype=np.float64)，然后输出 x+y ,和 np.add(x,y)"
   ]
  },
  {
   "cell_type": "code",
   "execution_count": 13,
   "metadata": {
    "pycharm": {
     "is_executing": true
    }
   },
   "outputs": [
    {
     "name": "stdout",
     "output_type": "stream",
     "text": [
      "[[ 6.  8.]\n",
      " [10. 12.]]\n",
      "[[ 6.  8.]\n",
      " [10. 12.]]\n"
     ]
    }
   ],
   "source": [
    "x = np.array([[1,2],[3,4]],dtype=np.float64)\n",
    "y = np.array([[5,6],[7,8]],dtype=np.float64)\n",
    "\n",
    "print(x+y)\n",
    "\n",
    "print(np.add(x,y))"
   ]
  },
  {
   "cell_type": "markdown",
   "metadata": {},
   "source": [
    "#### 14. 利用 13题目中的x,y 输出 x-y 和 np.subtract(x,y)"
   ]
  },
  {
   "cell_type": "code",
   "execution_count": 14,
   "metadata": {
    "pycharm": {
     "is_executing": true
    }
   },
   "outputs": [
    {
     "name": "stdout",
     "output_type": "stream",
     "text": [
      "[[-4. -4.]\n",
      " [-4. -4.]]\n",
      "[[-4. -4.]\n",
      " [-4. -4.]]\n"
     ]
    }
   ],
   "source": [
    "print(x-y)\n",
    "print(np.subtract(x,y))"
   ]
  },
  {
   "cell_type": "markdown",
   "metadata": {},
   "source": [
    "#### 15. 利用13题目中的x，y 输出 x*y ,和 np.multiply(x, y) 还有  np.dot(x,y),比较差异。然后自己换一个不是方阵的试试。"
   ]
  },
  {
   "cell_type": "code",
   "execution_count": 15,
   "metadata": {
    "pycharm": {
     "is_executing": true
    }
   },
   "outputs": [
    {
     "name": "stdout",
     "output_type": "stream",
     "text": [
      "[[ 5. 12.]\n",
      " [21. 32.]]\n",
      "[[ 5. 12.]\n",
      " [21. 32.]]\n",
      "[[19. 22.]\n",
      " [43. 50.]]\n"
     ]
    }
   ],
   "source": [
    "print(x*y)\n",
    "\n",
    "print(np.multiply(x,y))\n",
    "\n",
    "print(np.dot(x,y))\n"
   ]
  },
  {
   "cell_type": "markdown",
   "metadata": {},
   "source": [
    "#### 16. 利用13题目中的x,y,输出 x / y .(提示 ： 使用函数 np.divide())"
   ]
  },
  {
   "cell_type": "code",
   "execution_count": 16,
   "metadata": {
    "pycharm": {
     "is_executing": true
    }
   },
   "outputs": [
    {
     "name": "stdout",
     "output_type": "stream",
     "text": [
      "[[0.2        0.33333333]\n",
      " [0.42857143 0.5       ]]\n",
      "[[0.2        0.33333333]\n",
      " [0.42857143 0.5       ]]\n"
     ]
    }
   ],
   "source": [
    "print(x/y)\n",
    "\n",
    "print(np.divide(x,y))"
   ]
  },
  {
   "cell_type": "markdown",
   "metadata": {},
   "source": [
    "#### 17. 利用13题目中的x,输出 x的 开方。(提示： 使用函数 np.sqrt() )"
   ]
  },
  {
   "cell_type": "code",
   "execution_count": 17,
   "metadata": {
    "pycharm": {
     "is_executing": true
    }
   },
   "outputs": [
    {
     "name": "stdout",
     "output_type": "stream",
     "text": [
      "[[1.         1.41421356]\n",
      " [1.73205081 2.        ]]\n"
     ]
    }
   ],
   "source": [
    "print(np.sqrt(x))"
   ]
  },
  {
   "cell_type": "markdown",
   "metadata": {},
   "source": [
    "#### 18.利用13题目中的x,y ,执行 print(x.dot(y)) 和 print(np.dot(x,y))"
   ]
  },
  {
   "cell_type": "code",
   "execution_count": 18,
   "metadata": {
    "pycharm": {
     "is_executing": true
    }
   },
   "outputs": [
    {
     "name": "stdout",
     "output_type": "stream",
     "text": [
      "[[19. 22.]\n",
      " [43. 50.]]\n",
      "[[19. 22.]\n",
      " [43. 50.]]\n"
     ]
    }
   ],
   "source": [
    "print(x.dot(y))\n",
    "\n",
    "print(np.dot(x,y))"
   ]
  },
  {
   "cell_type": "markdown",
   "metadata": {},
   "source": [
    "##### 19.利用13题目中的 x,进行求和。提示：输出三种求和 (1)print(np.sum(x)):   (2)print(np.sum(x，axis =0 ));   (3)print(np.sum(x,axis = 1))"
   ]
  },
  {
   "cell_type": "code",
   "execution_count": 19,
   "metadata": {
    "pycharm": {
     "is_executing": true
    }
   },
   "outputs": [
    {
     "name": "stdout",
     "output_type": "stream",
     "text": [
      "10.0\n",
      "[4. 6.]\n",
      "[3. 7.]\n"
     ]
    }
   ],
   "source": [
    "print(np.sum(x))\n",
    "\n",
    "print(np.sum(x, axis=0))\n",
    "\n",
    "print(np.sum(x,axis=1))\n"
   ]
  },
  {
   "cell_type": "markdown",
   "metadata": {},
   "source": [
    "#### 20.利用13题目中的 x,进行求平均数（提示：输出三种平均数(1)print(np.mean(x)) (2)print(np.mean(x,axis = 0))(3) print(np.mean(x,axis =1))）"
   ]
  },
  {
   "cell_type": "code",
   "execution_count": 20,
   "metadata": {
    "pycharm": {
     "is_executing": true
    }
   },
   "outputs": [
    {
     "name": "stdout",
     "output_type": "stream",
     "text": [
      "2.5\n",
      "[2. 3.]\n",
      "[1.5 3.5]\n"
     ]
    }
   ],
   "source": [
    "print(np.mean(x))\n",
    "\n",
    "print(np.mean(x,axis=0))\n",
    "\n",
    "print(np.mean(x,axis=1))"
   ]
  },
  {
   "cell_type": "markdown",
   "metadata": {},
   "source": [
    "#### 21.利用13题目中的x，对x 进行矩阵转置，然后输出转置后的结果，（提示： x.T 表示对 x 的转置）"
   ]
  },
  {
   "cell_type": "code",
   "execution_count": 21,
   "metadata": {
    "pycharm": {
     "is_executing": true
    }
   },
   "outputs": [
    {
     "name": "stdout",
     "output_type": "stream",
     "text": [
      "[[1. 3.]\n",
      " [2. 4.]]\n"
     ]
    }
   ],
   "source": [
    "print(x.T)"
   ]
  },
  {
   "cell_type": "markdown",
   "metadata": {
    "collapsed": true
   },
   "source": [
    "#### 22.利用13题目中的x,求e的指数（提示： 函数 np.exp()）"
   ]
  },
  {
   "cell_type": "code",
   "execution_count": 22,
   "metadata": {
    "pycharm": {
     "is_executing": true
    }
   },
   "outputs": [
    {
     "name": "stdout",
     "output_type": "stream",
     "text": [
      "[[ 2.71828183  7.3890561 ]\n",
      " [20.08553692 54.59815003]]\n"
     ]
    }
   ],
   "source": [
    "print(np.exp(x))"
   ]
  },
  {
   "cell_type": "markdown",
   "metadata": {},
   "source": [
    "#### 23.利用13题目中的 x,求值最大的下标（提示(1)print(np.argmax(x)) ,(2) print(np.argmax(x, axis =0))(3)print(np.argmax(x),axis =1))"
   ]
  },
  {
   "cell_type": "code",
   "execution_count": 23,
   "metadata": {
    "pycharm": {
     "is_executing": true
    }
   },
   "outputs": [
    {
     "name": "stdout",
     "output_type": "stream",
     "text": [
      "3\n",
      "[1 1]\n",
      "[1 1]\n"
     ]
    }
   ],
   "source": [
    "print(np.argmax(x))\n",
    "\n",
    "print(np.argmax(x,axis=0))\n",
    "\n",
    "print(np.argmax(x,axis=1))"
   ]
  },
  {
   "cell_type": "markdown",
   "metadata": {},
   "source": [
    "#### 24,画图，y=x*x 其中 x = np.arange(0, 100, 0.1) （提示这里用到  matplotlib.pyplot 库）"
   ]
  },
  {
   "cell_type": "code",
   "execution_count": 27,
   "metadata": {
    "pycharm": {
     "is_executing": true
    }
   },
   "outputs": [
    {
     "data": {
      "application/javascript": [
       "/* Put everything inside the global mpl namespace */\n",
       "window.mpl = {};\n",
       "\n",
       "\n",
       "mpl.get_websocket_type = function() {\n",
       "    if (typeof(WebSocket) !== 'undefined') {\n",
       "        return WebSocket;\n",
       "    } else if (typeof(MozWebSocket) !== 'undefined') {\n",
       "        return MozWebSocket;\n",
       "    } else {\n",
       "        alert('Your browser does not have WebSocket support. ' +\n",
       "              'Please try Chrome, Safari or Firefox ≥ 6. ' +\n",
       "              'Firefox 4 and 5 are also supported but you ' +\n",
       "              'have to enable WebSockets in about:config.');\n",
       "    };\n",
       "}\n",
       "\n",
       "mpl.figure = function(figure_id, websocket, ondownload, parent_element) {\n",
       "    this.id = figure_id;\n",
       "\n",
       "    this.ws = websocket;\n",
       "\n",
       "    this.supports_binary = (this.ws.binaryType != undefined);\n",
       "\n",
       "    if (!this.supports_binary) {\n",
       "        var warnings = document.getElementById(\"mpl-warnings\");\n",
       "        if (warnings) {\n",
       "            warnings.style.display = 'block';\n",
       "            warnings.textContent = (\n",
       "                \"This browser does not support binary websocket messages. \" +\n",
       "                    \"Performance may be slow.\");\n",
       "        }\n",
       "    }\n",
       "\n",
       "    this.imageObj = new Image();\n",
       "\n",
       "    this.context = undefined;\n",
       "    this.message = undefined;\n",
       "    this.canvas = undefined;\n",
       "    this.rubberband_canvas = undefined;\n",
       "    this.rubberband_context = undefined;\n",
       "    this.format_dropdown = undefined;\n",
       "\n",
       "    this.image_mode = 'full';\n",
       "\n",
       "    this.root = $('<div/>');\n",
       "    this._root_extra_style(this.root)\n",
       "    this.root.attr('style', 'display: inline-block');\n",
       "\n",
       "    $(parent_element).append(this.root);\n",
       "\n",
       "    this._init_header(this);\n",
       "    this._init_canvas(this);\n",
       "    this._init_toolbar(this);\n",
       "\n",
       "    var fig = this;\n",
       "\n",
       "    this.waiting = false;\n",
       "\n",
       "    this.ws.onopen =  function () {\n",
       "            fig.send_message(\"supports_binary\", {value: fig.supports_binary});\n",
       "            fig.send_message(\"send_image_mode\", {});\n",
       "            if (mpl.ratio != 1) {\n",
       "                fig.send_message(\"set_dpi_ratio\", {'dpi_ratio': mpl.ratio});\n",
       "            }\n",
       "            fig.send_message(\"refresh\", {});\n",
       "        }\n",
       "\n",
       "    this.imageObj.onload = function() {\n",
       "            if (fig.image_mode == 'full') {\n",
       "                // Full images could contain transparency (where diff images\n",
       "                // almost always do), so we need to clear the canvas so that\n",
       "                // there is no ghosting.\n",
       "                fig.context.clearRect(0, 0, fig.canvas.width, fig.canvas.height);\n",
       "            }\n",
       "            fig.context.drawImage(fig.imageObj, 0, 0);\n",
       "        };\n",
       "\n",
       "    this.imageObj.onunload = function() {\n",
       "        fig.ws.close();\n",
       "    }\n",
       "\n",
       "    this.ws.onmessage = this._make_on_message_function(this);\n",
       "\n",
       "    this.ondownload = ondownload;\n",
       "}\n",
       "\n",
       "mpl.figure.prototype._init_header = function() {\n",
       "    var titlebar = $(\n",
       "        '<div class=\"ui-dialog-titlebar ui-widget-header ui-corner-all ' +\n",
       "        'ui-helper-clearfix\"/>');\n",
       "    var titletext = $(\n",
       "        '<div class=\"ui-dialog-title\" style=\"width: 100%; ' +\n",
       "        'text-align: center; padding: 3px;\"/>');\n",
       "    titlebar.append(titletext)\n",
       "    this.root.append(titlebar);\n",
       "    this.header = titletext[0];\n",
       "}\n",
       "\n",
       "\n",
       "\n",
       "mpl.figure.prototype._canvas_extra_style = function(canvas_div) {\n",
       "\n",
       "}\n",
       "\n",
       "\n",
       "mpl.figure.prototype._root_extra_style = function(canvas_div) {\n",
       "\n",
       "}\n",
       "\n",
       "mpl.figure.prototype._init_canvas = function() {\n",
       "    var fig = this;\n",
       "\n",
       "    var canvas_div = $('<div/>');\n",
       "\n",
       "    canvas_div.attr('style', 'position: relative; clear: both; outline: 0');\n",
       "\n",
       "    function canvas_keyboard_event(event) {\n",
       "        return fig.key_event(event, event['data']);\n",
       "    }\n",
       "\n",
       "    canvas_div.keydown('key_press', canvas_keyboard_event);\n",
       "    canvas_div.keyup('key_release', canvas_keyboard_event);\n",
       "    this.canvas_div = canvas_div\n",
       "    this._canvas_extra_style(canvas_div)\n",
       "    this.root.append(canvas_div);\n",
       "\n",
       "    var canvas = $('<canvas/>');\n",
       "    canvas.addClass('mpl-canvas');\n",
       "    canvas.attr('style', \"left: 0; top: 0; z-index: 0; outline: 0\")\n",
       "\n",
       "    this.canvas = canvas[0];\n",
       "    this.context = canvas[0].getContext(\"2d\");\n",
       "\n",
       "    var backingStore = this.context.backingStorePixelRatio ||\n",
       "\tthis.context.webkitBackingStorePixelRatio ||\n",
       "\tthis.context.mozBackingStorePixelRatio ||\n",
       "\tthis.context.msBackingStorePixelRatio ||\n",
       "\tthis.context.oBackingStorePixelRatio ||\n",
       "\tthis.context.backingStorePixelRatio || 1;\n",
       "\n",
       "    mpl.ratio = (window.devicePixelRatio || 1) / backingStore;\n",
       "\n",
       "    var rubberband = $('<canvas/>');\n",
       "    rubberband.attr('style', \"position: absolute; left: 0; top: 0; z-index: 1;\")\n",
       "\n",
       "    var pass_mouse_events = true;\n",
       "\n",
       "    canvas_div.resizable({\n",
       "        start: function(event, ui) {\n",
       "            pass_mouse_events = false;\n",
       "        },\n",
       "        resize: function(event, ui) {\n",
       "            fig.request_resize(ui.size.width, ui.size.height);\n",
       "        },\n",
       "        stop: function(event, ui) {\n",
       "            pass_mouse_events = true;\n",
       "            fig.request_resize(ui.size.width, ui.size.height);\n",
       "        },\n",
       "    });\n",
       "\n",
       "    function mouse_event_fn(event) {\n",
       "        if (pass_mouse_events)\n",
       "            return fig.mouse_event(event, event['data']);\n",
       "    }\n",
       "\n",
       "    rubberband.mousedown('button_press', mouse_event_fn);\n",
       "    rubberband.mouseup('button_release', mouse_event_fn);\n",
       "    // Throttle sequential mouse events to 1 every 20ms.\n",
       "    rubberband.mousemove('motion_notify', mouse_event_fn);\n",
       "\n",
       "    rubberband.mouseenter('figure_enter', mouse_event_fn);\n",
       "    rubberband.mouseleave('figure_leave', mouse_event_fn);\n",
       "\n",
       "    canvas_div.on(\"wheel\", function (event) {\n",
       "        event = event.originalEvent;\n",
       "        event['data'] = 'scroll'\n",
       "        if (event.deltaY < 0) {\n",
       "            event.step = 1;\n",
       "        } else {\n",
       "            event.step = -1;\n",
       "        }\n",
       "        mouse_event_fn(event);\n",
       "    });\n",
       "\n",
       "    canvas_div.append(canvas);\n",
       "    canvas_div.append(rubberband);\n",
       "\n",
       "    this.rubberband = rubberband;\n",
       "    this.rubberband_canvas = rubberband[0];\n",
       "    this.rubberband_context = rubberband[0].getContext(\"2d\");\n",
       "    this.rubberband_context.strokeStyle = \"#000000\";\n",
       "\n",
       "    this._resize_canvas = function(width, height) {\n",
       "        // Keep the size of the canvas, canvas container, and rubber band\n",
       "        // canvas in synch.\n",
       "        canvas_div.css('width', width)\n",
       "        canvas_div.css('height', height)\n",
       "\n",
       "        canvas.attr('width', width * mpl.ratio);\n",
       "        canvas.attr('height', height * mpl.ratio);\n",
       "        canvas.attr('style', 'width: ' + width + 'px; height: ' + height + 'px;');\n",
       "\n",
       "        rubberband.attr('width', width);\n",
       "        rubberband.attr('height', height);\n",
       "    }\n",
       "\n",
       "    // Set the figure to an initial 600x600px, this will subsequently be updated\n",
       "    // upon first draw.\n",
       "    this._resize_canvas(600, 600);\n",
       "\n",
       "    // Disable right mouse context menu.\n",
       "    $(this.rubberband_canvas).bind(\"contextmenu\",function(e){\n",
       "        return false;\n",
       "    });\n",
       "\n",
       "    function set_focus () {\n",
       "        canvas.focus();\n",
       "        canvas_div.focus();\n",
       "    }\n",
       "\n",
       "    window.setTimeout(set_focus, 100);\n",
       "}\n",
       "\n",
       "mpl.figure.prototype._init_toolbar = function() {\n",
       "    var fig = this;\n",
       "\n",
       "    var nav_element = $('<div/>');\n",
       "    nav_element.attr('style', 'width: 100%');\n",
       "    this.root.append(nav_element);\n",
       "\n",
       "    // Define a callback function for later on.\n",
       "    function toolbar_event(event) {\n",
       "        return fig.toolbar_button_onclick(event['data']);\n",
       "    }\n",
       "    function toolbar_mouse_event(event) {\n",
       "        return fig.toolbar_button_onmouseover(event['data']);\n",
       "    }\n",
       "\n",
       "    for(var toolbar_ind in mpl.toolbar_items) {\n",
       "        var name = mpl.toolbar_items[toolbar_ind][0];\n",
       "        var tooltip = mpl.toolbar_items[toolbar_ind][1];\n",
       "        var image = mpl.toolbar_items[toolbar_ind][2];\n",
       "        var method_name = mpl.toolbar_items[toolbar_ind][3];\n",
       "\n",
       "        if (!name) {\n",
       "            // put a spacer in here.\n",
       "            continue;\n",
       "        }\n",
       "        var button = $('<button/>');\n",
       "        button.addClass('ui-button ui-widget ui-state-default ui-corner-all ' +\n",
       "                        'ui-button-icon-only');\n",
       "        button.attr('role', 'button');\n",
       "        button.attr('aria-disabled', 'false');\n",
       "        button.click(method_name, toolbar_event);\n",
       "        button.mouseover(tooltip, toolbar_mouse_event);\n",
       "\n",
       "        var icon_img = $('<span/>');\n",
       "        icon_img.addClass('ui-button-icon-primary ui-icon');\n",
       "        icon_img.addClass(image);\n",
       "        icon_img.addClass('ui-corner-all');\n",
       "\n",
       "        var tooltip_span = $('<span/>');\n",
       "        tooltip_span.addClass('ui-button-text');\n",
       "        tooltip_span.html(tooltip);\n",
       "\n",
       "        button.append(icon_img);\n",
       "        button.append(tooltip_span);\n",
       "\n",
       "        nav_element.append(button);\n",
       "    }\n",
       "\n",
       "    var fmt_picker_span = $('<span/>');\n",
       "\n",
       "    var fmt_picker = $('<select/>');\n",
       "    fmt_picker.addClass('mpl-toolbar-option ui-widget ui-widget-content');\n",
       "    fmt_picker_span.append(fmt_picker);\n",
       "    nav_element.append(fmt_picker_span);\n",
       "    this.format_dropdown = fmt_picker[0];\n",
       "\n",
       "    for (var ind in mpl.extensions) {\n",
       "        var fmt = mpl.extensions[ind];\n",
       "        var option = $(\n",
       "            '<option/>', {selected: fmt === mpl.default_extension}).html(fmt);\n",
       "        fmt_picker.append(option);\n",
       "    }\n",
       "\n",
       "    // Add hover states to the ui-buttons\n",
       "    $( \".ui-button\" ).hover(\n",
       "        function() { $(this).addClass(\"ui-state-hover\");},\n",
       "        function() { $(this).removeClass(\"ui-state-hover\");}\n",
       "    );\n",
       "\n",
       "    var status_bar = $('<span class=\"mpl-message\"/>');\n",
       "    nav_element.append(status_bar);\n",
       "    this.message = status_bar[0];\n",
       "}\n",
       "\n",
       "mpl.figure.prototype.request_resize = function(x_pixels, y_pixels) {\n",
       "    // Request matplotlib to resize the figure. Matplotlib will then trigger a resize in the client,\n",
       "    // which will in turn request a refresh of the image.\n",
       "    this.send_message('resize', {'width': x_pixels, 'height': y_pixels});\n",
       "}\n",
       "\n",
       "mpl.figure.prototype.send_message = function(type, properties) {\n",
       "    properties['type'] = type;\n",
       "    properties['figure_id'] = this.id;\n",
       "    this.ws.send(JSON.stringify(properties));\n",
       "}\n",
       "\n",
       "mpl.figure.prototype.send_draw_message = function() {\n",
       "    if (!this.waiting) {\n",
       "        this.waiting = true;\n",
       "        this.ws.send(JSON.stringify({type: \"draw\", figure_id: this.id}));\n",
       "    }\n",
       "}\n",
       "\n",
       "\n",
       "mpl.figure.prototype.handle_save = function(fig, msg) {\n",
       "    var format_dropdown = fig.format_dropdown;\n",
       "    var format = format_dropdown.options[format_dropdown.selectedIndex].value;\n",
       "    fig.ondownload(fig, format);\n",
       "}\n",
       "\n",
       "\n",
       "mpl.figure.prototype.handle_resize = function(fig, msg) {\n",
       "    var size = msg['size'];\n",
       "    if (size[0] != fig.canvas.width || size[1] != fig.canvas.height) {\n",
       "        fig._resize_canvas(size[0], size[1]);\n",
       "        fig.send_message(\"refresh\", {});\n",
       "    };\n",
       "}\n",
       "\n",
       "mpl.figure.prototype.handle_rubberband = function(fig, msg) {\n",
       "    var x0 = msg['x0'] / mpl.ratio;\n",
       "    var y0 = (fig.canvas.height - msg['y0']) / mpl.ratio;\n",
       "    var x1 = msg['x1'] / mpl.ratio;\n",
       "    var y1 = (fig.canvas.height - msg['y1']) / mpl.ratio;\n",
       "    x0 = Math.floor(x0) + 0.5;\n",
       "    y0 = Math.floor(y0) + 0.5;\n",
       "    x1 = Math.floor(x1) + 0.5;\n",
       "    y1 = Math.floor(y1) + 0.5;\n",
       "    var min_x = Math.min(x0, x1);\n",
       "    var min_y = Math.min(y0, y1);\n",
       "    var width = Math.abs(x1 - x0);\n",
       "    var height = Math.abs(y1 - y0);\n",
       "\n",
       "    fig.rubberband_context.clearRect(\n",
       "        0, 0, fig.canvas.width / mpl.ratio, fig.canvas.height / mpl.ratio);\n",
       "\n",
       "    fig.rubberband_context.strokeRect(min_x, min_y, width, height);\n",
       "}\n",
       "\n",
       "mpl.figure.prototype.handle_figure_label = function(fig, msg) {\n",
       "    // Updates the figure title.\n",
       "    fig.header.textContent = msg['label'];\n",
       "}\n",
       "\n",
       "mpl.figure.prototype.handle_cursor = function(fig, msg) {\n",
       "    var cursor = msg['cursor'];\n",
       "    switch(cursor)\n",
       "    {\n",
       "    case 0:\n",
       "        cursor = 'pointer';\n",
       "        break;\n",
       "    case 1:\n",
       "        cursor = 'default';\n",
       "        break;\n",
       "    case 2:\n",
       "        cursor = 'crosshair';\n",
       "        break;\n",
       "    case 3:\n",
       "        cursor = 'move';\n",
       "        break;\n",
       "    }\n",
       "    fig.rubberband_canvas.style.cursor = cursor;\n",
       "}\n",
       "\n",
       "mpl.figure.prototype.handle_message = function(fig, msg) {\n",
       "    fig.message.textContent = msg['message'];\n",
       "}\n",
       "\n",
       "mpl.figure.prototype.handle_draw = function(fig, msg) {\n",
       "    // Request the server to send over a new figure.\n",
       "    fig.send_draw_message();\n",
       "}\n",
       "\n",
       "mpl.figure.prototype.handle_image_mode = function(fig, msg) {\n",
       "    fig.image_mode = msg['mode'];\n",
       "}\n",
       "\n",
       "mpl.figure.prototype.updated_canvas_event = function() {\n",
       "    // Called whenever the canvas gets updated.\n",
       "    this.send_message(\"ack\", {});\n",
       "}\n",
       "\n",
       "// A function to construct a web socket function for onmessage handling.\n",
       "// Called in the figure constructor.\n",
       "mpl.figure.prototype._make_on_message_function = function(fig) {\n",
       "    return function socket_on_message(evt) {\n",
       "        if (evt.data instanceof Blob) {\n",
       "            /* FIXME: We get \"Resource interpreted as Image but\n",
       "             * transferred with MIME type text/plain:\" errors on\n",
       "             * Chrome.  But how to set the MIME type?  It doesn't seem\n",
       "             * to be part of the websocket stream */\n",
       "            evt.data.type = \"image/png\";\n",
       "\n",
       "            /* Free the memory for the previous frames */\n",
       "            if (fig.imageObj.src) {\n",
       "                (window.URL || window.webkitURL).revokeObjectURL(\n",
       "                    fig.imageObj.src);\n",
       "            }\n",
       "\n",
       "            fig.imageObj.src = (window.URL || window.webkitURL).createObjectURL(\n",
       "                evt.data);\n",
       "            fig.updated_canvas_event();\n",
       "            fig.waiting = false;\n",
       "            return;\n",
       "        }\n",
       "        else if (typeof evt.data === 'string' && evt.data.slice(0, 21) == \"data:image/png;base64\") {\n",
       "            fig.imageObj.src = evt.data;\n",
       "            fig.updated_canvas_event();\n",
       "            fig.waiting = false;\n",
       "            return;\n",
       "        }\n",
       "\n",
       "        var msg = JSON.parse(evt.data);\n",
       "        var msg_type = msg['type'];\n",
       "\n",
       "        // Call the  \"handle_{type}\" callback, which takes\n",
       "        // the figure and JSON message as its only arguments.\n",
       "        try {\n",
       "            var callback = fig[\"handle_\" + msg_type];\n",
       "        } catch (e) {\n",
       "            console.log(\"No handler for the '\" + msg_type + \"' message type: \", msg);\n",
       "            return;\n",
       "        }\n",
       "\n",
       "        if (callback) {\n",
       "            try {\n",
       "                // console.log(\"Handling '\" + msg_type + \"' message: \", msg);\n",
       "                callback(fig, msg);\n",
       "            } catch (e) {\n",
       "                console.log(\"Exception inside the 'handler_\" + msg_type + \"' callback:\", e, e.stack, msg);\n",
       "            }\n",
       "        }\n",
       "    };\n",
       "}\n",
       "\n",
       "// from http://stackoverflow.com/questions/1114465/getting-mouse-location-in-canvas\n",
       "mpl.findpos = function(e) {\n",
       "    //this section is from http://www.quirksmode.org/js/events_properties.html\n",
       "    var targ;\n",
       "    if (!e)\n",
       "        e = window.event;\n",
       "    if (e.target)\n",
       "        targ = e.target;\n",
       "    else if (e.srcElement)\n",
       "        targ = e.srcElement;\n",
       "    if (targ.nodeType == 3) // defeat Safari bug\n",
       "        targ = targ.parentNode;\n",
       "\n",
       "    // jQuery normalizes the pageX and pageY\n",
       "    // pageX,Y are the mouse positions relative to the document\n",
       "    // offset() returns the position of the element relative to the document\n",
       "    var x = e.pageX - $(targ).offset().left;\n",
       "    var y = e.pageY - $(targ).offset().top;\n",
       "\n",
       "    return {\"x\": x, \"y\": y};\n",
       "};\n",
       "\n",
       "/*\n",
       " * return a copy of an object with only non-object keys\n",
       " * we need this to avoid circular references\n",
       " * http://stackoverflow.com/a/24161582/3208463\n",
       " */\n",
       "function simpleKeys (original) {\n",
       "  return Object.keys(original).reduce(function (obj, key) {\n",
       "    if (typeof original[key] !== 'object')\n",
       "        obj[key] = original[key]\n",
       "    return obj;\n",
       "  }, {});\n",
       "}\n",
       "\n",
       "mpl.figure.prototype.mouse_event = function(event, name) {\n",
       "    var canvas_pos = mpl.findpos(event)\n",
       "\n",
       "    if (name === 'button_press')\n",
       "    {\n",
       "        this.canvas.focus();\n",
       "        this.canvas_div.focus();\n",
       "    }\n",
       "\n",
       "    var x = canvas_pos.x * mpl.ratio;\n",
       "    var y = canvas_pos.y * mpl.ratio;\n",
       "\n",
       "    this.send_message(name, {x: x, y: y, button: event.button,\n",
       "                             step: event.step,\n",
       "                             guiEvent: simpleKeys(event)});\n",
       "\n",
       "    /* This prevents the web browser from automatically changing to\n",
       "     * the text insertion cursor when the button is pressed.  We want\n",
       "     * to control all of the cursor setting manually through the\n",
       "     * 'cursor' event from matplotlib */\n",
       "    event.preventDefault();\n",
       "    return false;\n",
       "}\n",
       "\n",
       "mpl.figure.prototype._key_event_extra = function(event, name) {\n",
       "    // Handle any extra behaviour associated with a key event\n",
       "}\n",
       "\n",
       "mpl.figure.prototype.key_event = function(event, name) {\n",
       "\n",
       "    // Prevent repeat events\n",
       "    if (name == 'key_press')\n",
       "    {\n",
       "        if (event.which === this._key)\n",
       "            return;\n",
       "        else\n",
       "            this._key = event.which;\n",
       "    }\n",
       "    if (name == 'key_release')\n",
       "        this._key = null;\n",
       "\n",
       "    var value = '';\n",
       "    if (event.ctrlKey && event.which != 17)\n",
       "        value += \"ctrl+\";\n",
       "    if (event.altKey && event.which != 18)\n",
       "        value += \"alt+\";\n",
       "    if (event.shiftKey && event.which != 16)\n",
       "        value += \"shift+\";\n",
       "\n",
       "    value += 'k';\n",
       "    value += event.which.toString();\n",
       "\n",
       "    this._key_event_extra(event, name);\n",
       "\n",
       "    this.send_message(name, {key: value,\n",
       "                             guiEvent: simpleKeys(event)});\n",
       "    return false;\n",
       "}\n",
       "\n",
       "mpl.figure.prototype.toolbar_button_onclick = function(name) {\n",
       "    if (name == 'download') {\n",
       "        this.handle_save(this, null);\n",
       "    } else {\n",
       "        this.send_message(\"toolbar_button\", {name: name});\n",
       "    }\n",
       "};\n",
       "\n",
       "mpl.figure.prototype.toolbar_button_onmouseover = function(tooltip) {\n",
       "    this.message.textContent = tooltip;\n",
       "};\n",
       "mpl.toolbar_items = [[\"Home\", \"Reset original view\", \"fa fa-home icon-home\", \"home\"], [\"Back\", \"Back to previous view\", \"fa fa-arrow-left icon-arrow-left\", \"back\"], [\"Forward\", \"Forward to next view\", \"fa fa-arrow-right icon-arrow-right\", \"forward\"], [\"\", \"\", \"\", \"\"], [\"Pan\", \"Pan axes with left mouse, zoom with right\", \"fa fa-arrows icon-move\", \"pan\"], [\"Zoom\", \"Zoom to rectangle\", \"fa fa-square-o icon-check-empty\", \"zoom\"], [\"\", \"\", \"\", \"\"], [\"Download\", \"Download plot\", \"fa fa-floppy-o icon-save\", \"download\"]];\n",
       "\n",
       "mpl.extensions = [\"eps\", \"pdf\", \"png\", \"ps\", \"raw\", \"svg\"];\n",
       "\n",
       "mpl.default_extension = \"png\";var comm_websocket_adapter = function(comm) {\n",
       "    // Create a \"websocket\"-like object which calls the given IPython comm\n",
       "    // object with the appropriate methods. Currently this is a non binary\n",
       "    // socket, so there is still some room for performance tuning.\n",
       "    var ws = {};\n",
       "\n",
       "    ws.close = function() {\n",
       "        comm.close()\n",
       "    };\n",
       "    ws.send = function(m) {\n",
       "        //console.log('sending', m);\n",
       "        comm.send(m);\n",
       "    };\n",
       "    // Register the callback with on_msg.\n",
       "    comm.on_msg(function(msg) {\n",
       "        //console.log('receiving', msg['content']['data'], msg);\n",
       "        // Pass the mpl event to the overridden (by mpl) onmessage function.\n",
       "        ws.onmessage(msg['content']['data'])\n",
       "    });\n",
       "    return ws;\n",
       "}\n",
       "\n",
       "mpl.mpl_figure_comm = function(comm, msg) {\n",
       "    // This is the function which gets called when the mpl process\n",
       "    // starts-up an IPython Comm through the \"matplotlib\" channel.\n",
       "\n",
       "    var id = msg.content.data.id;\n",
       "    // Get hold of the div created by the display call when the Comm\n",
       "    // socket was opened in Python.\n",
       "    var element = $(\"#\" + id);\n",
       "    var ws_proxy = comm_websocket_adapter(comm)\n",
       "\n",
       "    function ondownload(figure, format) {\n",
       "        window.open(figure.imageObj.src);\n",
       "    }\n",
       "\n",
       "    var fig = new mpl.figure(id, ws_proxy,\n",
       "                           ondownload,\n",
       "                           element.get(0));\n",
       "\n",
       "    // Call onopen now - mpl needs it, as it is assuming we've passed it a real\n",
       "    // web socket which is closed, not our websocket->open comm proxy.\n",
       "    ws_proxy.onopen();\n",
       "\n",
       "    fig.parent_element = element.get(0);\n",
       "    fig.cell_info = mpl.find_output_cell(\"<div id='\" + id + \"'></div>\");\n",
       "    if (!fig.cell_info) {\n",
       "        console.error(\"Failed to find cell for figure\", id, fig);\n",
       "        return;\n",
       "    }\n",
       "\n",
       "    var output_index = fig.cell_info[2]\n",
       "    var cell = fig.cell_info[0];\n",
       "\n",
       "};\n",
       "\n",
       "mpl.figure.prototype.handle_close = function(fig, msg) {\n",
       "    var width = fig.canvas.width/mpl.ratio\n",
       "    fig.root.unbind('remove')\n",
       "\n",
       "    // Update the output cell to use the data from the current canvas.\n",
       "    fig.push_to_output();\n",
       "    var dataURL = fig.canvas.toDataURL();\n",
       "    // Re-enable the keyboard manager in IPython - without this line, in FF,\n",
       "    // the notebook keyboard shortcuts fail.\n",
       "    IPython.keyboard_manager.enable()\n",
       "    $(fig.parent_element).html('<img src=\"' + dataURL + '\" width=\"' + width + '\">');\n",
       "    fig.close_ws(fig, msg);\n",
       "}\n",
       "\n",
       "mpl.figure.prototype.close_ws = function(fig, msg){\n",
       "    fig.send_message('closing', msg);\n",
       "    // fig.ws.close()\n",
       "}\n",
       "\n",
       "mpl.figure.prototype.push_to_output = function(remove_interactive) {\n",
       "    // Turn the data on the canvas into data in the output cell.\n",
       "    var width = this.canvas.width/mpl.ratio\n",
       "    var dataURL = this.canvas.toDataURL();\n",
       "    this.cell_info[1]['text/html'] = '<img src=\"' + dataURL + '\" width=\"' + width + '\">';\n",
       "}\n",
       "\n",
       "mpl.figure.prototype.updated_canvas_event = function() {\n",
       "    // Tell IPython that the notebook contents must change.\n",
       "    IPython.notebook.set_dirty(true);\n",
       "    this.send_message(\"ack\", {});\n",
       "    var fig = this;\n",
       "    // Wait a second, then push the new image to the DOM so\n",
       "    // that it is saved nicely (might be nice to debounce this).\n",
       "    setTimeout(function () { fig.push_to_output() }, 1000);\n",
       "}\n",
       "\n",
       "mpl.figure.prototype._init_toolbar = function() {\n",
       "    var fig = this;\n",
       "\n",
       "    var nav_element = $('<div/>');\n",
       "    nav_element.attr('style', 'width: 100%');\n",
       "    this.root.append(nav_element);\n",
       "\n",
       "    // Define a callback function for later on.\n",
       "    function toolbar_event(event) {\n",
       "        return fig.toolbar_button_onclick(event['data']);\n",
       "    }\n",
       "    function toolbar_mouse_event(event) {\n",
       "        return fig.toolbar_button_onmouseover(event['data']);\n",
       "    }\n",
       "\n",
       "    for(var toolbar_ind in mpl.toolbar_items){\n",
       "        var name = mpl.toolbar_items[toolbar_ind][0];\n",
       "        var tooltip = mpl.toolbar_items[toolbar_ind][1];\n",
       "        var image = mpl.toolbar_items[toolbar_ind][2];\n",
       "        var method_name = mpl.toolbar_items[toolbar_ind][3];\n",
       "\n",
       "        if (!name) { continue; };\n",
       "\n",
       "        var button = $('<button class=\"btn btn-default\" href=\"#\" title=\"' + name + '\"><i class=\"fa ' + image + ' fa-lg\"></i></button>');\n",
       "        button.click(method_name, toolbar_event);\n",
       "        button.mouseover(tooltip, toolbar_mouse_event);\n",
       "        nav_element.append(button);\n",
       "    }\n",
       "\n",
       "    // Add the status bar.\n",
       "    var status_bar = $('<span class=\"mpl-message\" style=\"text-align:right; float: right;\"/>');\n",
       "    nav_element.append(status_bar);\n",
       "    this.message = status_bar[0];\n",
       "\n",
       "    // Add the close button to the window.\n",
       "    var buttongrp = $('<div class=\"btn-group inline pull-right\"></div>');\n",
       "    var button = $('<button class=\"btn btn-mini btn-primary\" href=\"#\" title=\"Stop Interaction\"><i class=\"fa fa-power-off icon-remove icon-large\"></i></button>');\n",
       "    button.click(function (evt) { fig.handle_close(fig, {}); } );\n",
       "    button.mouseover('Stop Interaction', toolbar_mouse_event);\n",
       "    buttongrp.append(button);\n",
       "    var titlebar = this.root.find($('.ui-dialog-titlebar'));\n",
       "    titlebar.prepend(buttongrp);\n",
       "}\n",
       "\n",
       "mpl.figure.prototype._root_extra_style = function(el){\n",
       "    var fig = this\n",
       "    el.on(\"remove\", function(){\n",
       "\tfig.close_ws(fig, {});\n",
       "    });\n",
       "}\n",
       "\n",
       "mpl.figure.prototype._canvas_extra_style = function(el){\n",
       "    // this is important to make the div 'focusable\n",
       "    el.attr('tabindex', 0)\n",
       "    // reach out to IPython and tell the keyboard manager to turn it's self\n",
       "    // off when our div gets focus\n",
       "\n",
       "    // location in version 3\n",
       "    if (IPython.notebook.keyboard_manager) {\n",
       "        IPython.notebook.keyboard_manager.register_events(el);\n",
       "    }\n",
       "    else {\n",
       "        // location in version 2\n",
       "        IPython.keyboard_manager.register_events(el);\n",
       "    }\n",
       "\n",
       "}\n",
       "\n",
       "mpl.figure.prototype._key_event_extra = function(event, name) {\n",
       "    var manager = IPython.notebook.keyboard_manager;\n",
       "    if (!manager)\n",
       "        manager = IPython.keyboard_manager;\n",
       "\n",
       "    // Check for shift+enter\n",
       "    if (event.shiftKey && event.which == 13) {\n",
       "        this.canvas_div.blur();\n",
       "        // select the cell after this one\n",
       "        var index = IPython.notebook.find_cell_index(this.cell_info[0]);\n",
       "        IPython.notebook.select(index + 1);\n",
       "    }\n",
       "}\n",
       "\n",
       "mpl.figure.prototype.handle_save = function(fig, msg) {\n",
       "    fig.ondownload(fig, null);\n",
       "}\n",
       "\n",
       "\n",
       "mpl.find_output_cell = function(html_output) {\n",
       "    // Return the cell and output element which can be found *uniquely* in the notebook.\n",
       "    // Note - this is a bit hacky, but it is done because the \"notebook_saving.Notebook\"\n",
       "    // IPython event is triggered only after the cells have been serialised, which for\n",
       "    // our purposes (turning an active figure into a static one), is too late.\n",
       "    var cells = IPython.notebook.get_cells();\n",
       "    var ncells = cells.length;\n",
       "    for (var i=0; i<ncells; i++) {\n",
       "        var cell = cells[i];\n",
       "        if (cell.cell_type === 'code'){\n",
       "            for (var j=0; j<cell.output_area.outputs.length; j++) {\n",
       "                var data = cell.output_area.outputs[j];\n",
       "                if (data.data) {\n",
       "                    // IPython >= 3 moved mimebundle to data attribute of output\n",
       "                    data = data.data;\n",
       "                }\n",
       "                if (data['text/html'] == html_output) {\n",
       "                    return [cell, data, j];\n",
       "                }\n",
       "            }\n",
       "        }\n",
       "    }\n",
       "}\n",
       "\n",
       "// Register the function which deals with the matplotlib target/channel.\n",
       "// The kernel may be null if the page has been refreshed.\n",
       "if (IPython.notebook.kernel != null) {\n",
       "    IPython.notebook.kernel.comm_manager.register_target('matplotlib', mpl.mpl_figure_comm);\n",
       "}\n"
      ],
      "text/plain": [
       "<IPython.core.display.Javascript object>"
      ]
     },
     "metadata": {},
     "output_type": "display_data"
    },
    {
     "data": {
      "text/html": [
       "<img src=\"data:image/png;base64,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\" width=\"640\">"
      ],
      "text/plain": [
       "<IPython.core.display.HTML object>"
      ]
     },
     "metadata": {},
     "output_type": "display_data"
    }
   ],
   "source": [
    "%matplotlib notebook\n",
    "import matplotlib.pyplot as plt\n",
    "\n",
    "x = np.arange(0,100,0.1)\n",
    "\n",
    "y = x*x\n",
    "\n",
    "plt.figure()\n",
    "plt.plot(x,y)\n",
    "plt.draw()"
   ]
  },
  {
   "cell_type": "markdown",
   "metadata": {},
   "source": [
    "#### 25.画图。画正弦函数和余弦函数， x = np.arange(0, 3 * np.pi, 0.1)(提示：这里用到 np.sin() np.cos() 函数和 matplotlib.pyplot 库)"
   ]
  },
  {
   "cell_type": "code",
   "execution_count": 28,
   "metadata": {
    "pycharm": {
     "is_executing": true
    }
   },
   "outputs": [
    {
     "data": {
      "application/javascript": [
       "/* Put everything inside the global mpl namespace */\n",
       "window.mpl = {};\n",
       "\n",
       "\n",
       "mpl.get_websocket_type = function() {\n",
       "    if (typeof(WebSocket) !== 'undefined') {\n",
       "        return WebSocket;\n",
       "    } else if (typeof(MozWebSocket) !== 'undefined') {\n",
       "        return MozWebSocket;\n",
       "    } else {\n",
       "        alert('Your browser does not have WebSocket support. ' +\n",
       "              'Please try Chrome, Safari or Firefox ≥ 6. ' +\n",
       "              'Firefox 4 and 5 are also supported but you ' +\n",
       "              'have to enable WebSockets in about:config.');\n",
       "    };\n",
       "}\n",
       "\n",
       "mpl.figure = function(figure_id, websocket, ondownload, parent_element) {\n",
       "    this.id = figure_id;\n",
       "\n",
       "    this.ws = websocket;\n",
       "\n",
       "    this.supports_binary = (this.ws.binaryType != undefined);\n",
       "\n",
       "    if (!this.supports_binary) {\n",
       "        var warnings = document.getElementById(\"mpl-warnings\");\n",
       "        if (warnings) {\n",
       "            warnings.style.display = 'block';\n",
       "            warnings.textContent = (\n",
       "                \"This browser does not support binary websocket messages. \" +\n",
       "                    \"Performance may be slow.\");\n",
       "        }\n",
       "    }\n",
       "\n",
       "    this.imageObj = new Image();\n",
       "\n",
       "    this.context = undefined;\n",
       "    this.message = undefined;\n",
       "    this.canvas = undefined;\n",
       "    this.rubberband_canvas = undefined;\n",
       "    this.rubberband_context = undefined;\n",
       "    this.format_dropdown = undefined;\n",
       "\n",
       "    this.image_mode = 'full';\n",
       "\n",
       "    this.root = $('<div/>');\n",
       "    this._root_extra_style(this.root)\n",
       "    this.root.attr('style', 'display: inline-block');\n",
       "\n",
       "    $(parent_element).append(this.root);\n",
       "\n",
       "    this._init_header(this);\n",
       "    this._init_canvas(this);\n",
       "    this._init_toolbar(this);\n",
       "\n",
       "    var fig = this;\n",
       "\n",
       "    this.waiting = false;\n",
       "\n",
       "    this.ws.onopen =  function () {\n",
       "            fig.send_message(\"supports_binary\", {value: fig.supports_binary});\n",
       "            fig.send_message(\"send_image_mode\", {});\n",
       "            if (mpl.ratio != 1) {\n",
       "                fig.send_message(\"set_dpi_ratio\", {'dpi_ratio': mpl.ratio});\n",
       "            }\n",
       "            fig.send_message(\"refresh\", {});\n",
       "        }\n",
       "\n",
       "    this.imageObj.onload = function() {\n",
       "            if (fig.image_mode == 'full') {\n",
       "                // Full images could contain transparency (where diff images\n",
       "                // almost always do), so we need to clear the canvas so that\n",
       "                // there is no ghosting.\n",
       "                fig.context.clearRect(0, 0, fig.canvas.width, fig.canvas.height);\n",
       "            }\n",
       "            fig.context.drawImage(fig.imageObj, 0, 0);\n",
       "        };\n",
       "\n",
       "    this.imageObj.onunload = function() {\n",
       "        fig.ws.close();\n",
       "    }\n",
       "\n",
       "    this.ws.onmessage = this._make_on_message_function(this);\n",
       "\n",
       "    this.ondownload = ondownload;\n",
       "}\n",
       "\n",
       "mpl.figure.prototype._init_header = function() {\n",
       "    var titlebar = $(\n",
       "        '<div class=\"ui-dialog-titlebar ui-widget-header ui-corner-all ' +\n",
       "        'ui-helper-clearfix\"/>');\n",
       "    var titletext = $(\n",
       "        '<div class=\"ui-dialog-title\" style=\"width: 100%; ' +\n",
       "        'text-align: center; padding: 3px;\"/>');\n",
       "    titlebar.append(titletext)\n",
       "    this.root.append(titlebar);\n",
       "    this.header = titletext[0];\n",
       "}\n",
       "\n",
       "\n",
       "\n",
       "mpl.figure.prototype._canvas_extra_style = function(canvas_div) {\n",
       "\n",
       "}\n",
       "\n",
       "\n",
       "mpl.figure.prototype._root_extra_style = function(canvas_div) {\n",
       "\n",
       "}\n",
       "\n",
       "mpl.figure.prototype._init_canvas = function() {\n",
       "    var fig = this;\n",
       "\n",
       "    var canvas_div = $('<div/>');\n",
       "\n",
       "    canvas_div.attr('style', 'position: relative; clear: both; outline: 0');\n",
       "\n",
       "    function canvas_keyboard_event(event) {\n",
       "        return fig.key_event(event, event['data']);\n",
       "    }\n",
       "\n",
       "    canvas_div.keydown('key_press', canvas_keyboard_event);\n",
       "    canvas_div.keyup('key_release', canvas_keyboard_event);\n",
       "    this.canvas_div = canvas_div\n",
       "    this._canvas_extra_style(canvas_div)\n",
       "    this.root.append(canvas_div);\n",
       "\n",
       "    var canvas = $('<canvas/>');\n",
       "    canvas.addClass('mpl-canvas');\n",
       "    canvas.attr('style', \"left: 0; top: 0; z-index: 0; outline: 0\")\n",
       "\n",
       "    this.canvas = canvas[0];\n",
       "    this.context = canvas[0].getContext(\"2d\");\n",
       "\n",
       "    var backingStore = this.context.backingStorePixelRatio ||\n",
       "\tthis.context.webkitBackingStorePixelRatio ||\n",
       "\tthis.context.mozBackingStorePixelRatio ||\n",
       "\tthis.context.msBackingStorePixelRatio ||\n",
       "\tthis.context.oBackingStorePixelRatio ||\n",
       "\tthis.context.backingStorePixelRatio || 1;\n",
       "\n",
       "    mpl.ratio = (window.devicePixelRatio || 1) / backingStore;\n",
       "\n",
       "    var rubberband = $('<canvas/>');\n",
       "    rubberband.attr('style', \"position: absolute; left: 0; top: 0; z-index: 1;\")\n",
       "\n",
       "    var pass_mouse_events = true;\n",
       "\n",
       "    canvas_div.resizable({\n",
       "        start: function(event, ui) {\n",
       "            pass_mouse_events = false;\n",
       "        },\n",
       "        resize: function(event, ui) {\n",
       "            fig.request_resize(ui.size.width, ui.size.height);\n",
       "        },\n",
       "        stop: function(event, ui) {\n",
       "            pass_mouse_events = true;\n",
       "            fig.request_resize(ui.size.width, ui.size.height);\n",
       "        },\n",
       "    });\n",
       "\n",
       "    function mouse_event_fn(event) {\n",
       "        if (pass_mouse_events)\n",
       "            return fig.mouse_event(event, event['data']);\n",
       "    }\n",
       "\n",
       "    rubberband.mousedown('button_press', mouse_event_fn);\n",
       "    rubberband.mouseup('button_release', mouse_event_fn);\n",
       "    // Throttle sequential mouse events to 1 every 20ms.\n",
       "    rubberband.mousemove('motion_notify', mouse_event_fn);\n",
       "\n",
       "    rubberband.mouseenter('figure_enter', mouse_event_fn);\n",
       "    rubberband.mouseleave('figure_leave', mouse_event_fn);\n",
       "\n",
       "    canvas_div.on(\"wheel\", function (event) {\n",
       "        event = event.originalEvent;\n",
       "        event['data'] = 'scroll'\n",
       "        if (event.deltaY < 0) {\n",
       "            event.step = 1;\n",
       "        } else {\n",
       "            event.step = -1;\n",
       "        }\n",
       "        mouse_event_fn(event);\n",
       "    });\n",
       "\n",
       "    canvas_div.append(canvas);\n",
       "    canvas_div.append(rubberband);\n",
       "\n",
       "    this.rubberband = rubberband;\n",
       "    this.rubberband_canvas = rubberband[0];\n",
       "    this.rubberband_context = rubberband[0].getContext(\"2d\");\n",
       "    this.rubberband_context.strokeStyle = \"#000000\";\n",
       "\n",
       "    this._resize_canvas = function(width, height) {\n",
       "        // Keep the size of the canvas, canvas container, and rubber band\n",
       "        // canvas in synch.\n",
       "        canvas_div.css('width', width)\n",
       "        canvas_div.css('height', height)\n",
       "\n",
       "        canvas.attr('width', width * mpl.ratio);\n",
       "        canvas.attr('height', height * mpl.ratio);\n",
       "        canvas.attr('style', 'width: ' + width + 'px; height: ' + height + 'px;');\n",
       "\n",
       "        rubberband.attr('width', width);\n",
       "        rubberband.attr('height', height);\n",
       "    }\n",
       "\n",
       "    // Set the figure to an initial 600x600px, this will subsequently be updated\n",
       "    // upon first draw.\n",
       "    this._resize_canvas(600, 600);\n",
       "\n",
       "    // Disable right mouse context menu.\n",
       "    $(this.rubberband_canvas).bind(\"contextmenu\",function(e){\n",
       "        return false;\n",
       "    });\n",
       "\n",
       "    function set_focus () {\n",
       "        canvas.focus();\n",
       "        canvas_div.focus();\n",
       "    }\n",
       "\n",
       "    window.setTimeout(set_focus, 100);\n",
       "}\n",
       "\n",
       "mpl.figure.prototype._init_toolbar = function() {\n",
       "    var fig = this;\n",
       "\n",
       "    var nav_element = $('<div/>');\n",
       "    nav_element.attr('style', 'width: 100%');\n",
       "    this.root.append(nav_element);\n",
       "\n",
       "    // Define a callback function for later on.\n",
       "    function toolbar_event(event) {\n",
       "        return fig.toolbar_button_onclick(event['data']);\n",
       "    }\n",
       "    function toolbar_mouse_event(event) {\n",
       "        return fig.toolbar_button_onmouseover(event['data']);\n",
       "    }\n",
       "\n",
       "    for(var toolbar_ind in mpl.toolbar_items) {\n",
       "        var name = mpl.toolbar_items[toolbar_ind][0];\n",
       "        var tooltip = mpl.toolbar_items[toolbar_ind][1];\n",
       "        var image = mpl.toolbar_items[toolbar_ind][2];\n",
       "        var method_name = mpl.toolbar_items[toolbar_ind][3];\n",
       "\n",
       "        if (!name) {\n",
       "            // put a spacer in here.\n",
       "            continue;\n",
       "        }\n",
       "        var button = $('<button/>');\n",
       "        button.addClass('ui-button ui-widget ui-state-default ui-corner-all ' +\n",
       "                        'ui-button-icon-only');\n",
       "        button.attr('role', 'button');\n",
       "        button.attr('aria-disabled', 'false');\n",
       "        button.click(method_name, toolbar_event);\n",
       "        button.mouseover(tooltip, toolbar_mouse_event);\n",
       "\n",
       "        var icon_img = $('<span/>');\n",
       "        icon_img.addClass('ui-button-icon-primary ui-icon');\n",
       "        icon_img.addClass(image);\n",
       "        icon_img.addClass('ui-corner-all');\n",
       "\n",
       "        var tooltip_span = $('<span/>');\n",
       "        tooltip_span.addClass('ui-button-text');\n",
       "        tooltip_span.html(tooltip);\n",
       "\n",
       "        button.append(icon_img);\n",
       "        button.append(tooltip_span);\n",
       "\n",
       "        nav_element.append(button);\n",
       "    }\n",
       "\n",
       "    var fmt_picker_span = $('<span/>');\n",
       "\n",
       "    var fmt_picker = $('<select/>');\n",
       "    fmt_picker.addClass('mpl-toolbar-option ui-widget ui-widget-content');\n",
       "    fmt_picker_span.append(fmt_picker);\n",
       "    nav_element.append(fmt_picker_span);\n",
       "    this.format_dropdown = fmt_picker[0];\n",
       "\n",
       "    for (var ind in mpl.extensions) {\n",
       "        var fmt = mpl.extensions[ind];\n",
       "        var option = $(\n",
       "            '<option/>', {selected: fmt === mpl.default_extension}).html(fmt);\n",
       "        fmt_picker.append(option);\n",
       "    }\n",
       "\n",
       "    // Add hover states to the ui-buttons\n",
       "    $( \".ui-button\" ).hover(\n",
       "        function() { $(this).addClass(\"ui-state-hover\");},\n",
       "        function() { $(this).removeClass(\"ui-state-hover\");}\n",
       "    );\n",
       "\n",
       "    var status_bar = $('<span class=\"mpl-message\"/>');\n",
       "    nav_element.append(status_bar);\n",
       "    this.message = status_bar[0];\n",
       "}\n",
       "\n",
       "mpl.figure.prototype.request_resize = function(x_pixels, y_pixels) {\n",
       "    // Request matplotlib to resize the figure. Matplotlib will then trigger a resize in the client,\n",
       "    // which will in turn request a refresh of the image.\n",
       "    this.send_message('resize', {'width': x_pixels, 'height': y_pixels});\n",
       "}\n",
       "\n",
       "mpl.figure.prototype.send_message = function(type, properties) {\n",
       "    properties['type'] = type;\n",
       "    properties['figure_id'] = this.id;\n",
       "    this.ws.send(JSON.stringify(properties));\n",
       "}\n",
       "\n",
       "mpl.figure.prototype.send_draw_message = function() {\n",
       "    if (!this.waiting) {\n",
       "        this.waiting = true;\n",
       "        this.ws.send(JSON.stringify({type: \"draw\", figure_id: this.id}));\n",
       "    }\n",
       "}\n",
       "\n",
       "\n",
       "mpl.figure.prototype.handle_save = function(fig, msg) {\n",
       "    var format_dropdown = fig.format_dropdown;\n",
       "    var format = format_dropdown.options[format_dropdown.selectedIndex].value;\n",
       "    fig.ondownload(fig, format);\n",
       "}\n",
       "\n",
       "\n",
       "mpl.figure.prototype.handle_resize = function(fig, msg) {\n",
       "    var size = msg['size'];\n",
       "    if (size[0] != fig.canvas.width || size[1] != fig.canvas.height) {\n",
       "        fig._resize_canvas(size[0], size[1]);\n",
       "        fig.send_message(\"refresh\", {});\n",
       "    };\n",
       "}\n",
       "\n",
       "mpl.figure.prototype.handle_rubberband = function(fig, msg) {\n",
       "    var x0 = msg['x0'] / mpl.ratio;\n",
       "    var y0 = (fig.canvas.height - msg['y0']) / mpl.ratio;\n",
       "    var x1 = msg['x1'] / mpl.ratio;\n",
       "    var y1 = (fig.canvas.height - msg['y1']) / mpl.ratio;\n",
       "    x0 = Math.floor(x0) + 0.5;\n",
       "    y0 = Math.floor(y0) + 0.5;\n",
       "    x1 = Math.floor(x1) + 0.5;\n",
       "    y1 = Math.floor(y1) + 0.5;\n",
       "    var min_x = Math.min(x0, x1);\n",
       "    var min_y = Math.min(y0, y1);\n",
       "    var width = Math.abs(x1 - x0);\n",
       "    var height = Math.abs(y1 - y0);\n",
       "\n",
       "    fig.rubberband_context.clearRect(\n",
       "        0, 0, fig.canvas.width / mpl.ratio, fig.canvas.height / mpl.ratio);\n",
       "\n",
       "    fig.rubberband_context.strokeRect(min_x, min_y, width, height);\n",
       "}\n",
       "\n",
       "mpl.figure.prototype.handle_figure_label = function(fig, msg) {\n",
       "    // Updates the figure title.\n",
       "    fig.header.textContent = msg['label'];\n",
       "}\n",
       "\n",
       "mpl.figure.prototype.handle_cursor = function(fig, msg) {\n",
       "    var cursor = msg['cursor'];\n",
       "    switch(cursor)\n",
       "    {\n",
       "    case 0:\n",
       "        cursor = 'pointer';\n",
       "        break;\n",
       "    case 1:\n",
       "        cursor = 'default';\n",
       "        break;\n",
       "    case 2:\n",
       "        cursor = 'crosshair';\n",
       "        break;\n",
       "    case 3:\n",
       "        cursor = 'move';\n",
       "        break;\n",
       "    }\n",
       "    fig.rubberband_canvas.style.cursor = cursor;\n",
       "}\n",
       "\n",
       "mpl.figure.prototype.handle_message = function(fig, msg) {\n",
       "    fig.message.textContent = msg['message'];\n",
       "}\n",
       "\n",
       "mpl.figure.prototype.handle_draw = function(fig, msg) {\n",
       "    // Request the server to send over a new figure.\n",
       "    fig.send_draw_message();\n",
       "}\n",
       "\n",
       "mpl.figure.prototype.handle_image_mode = function(fig, msg) {\n",
       "    fig.image_mode = msg['mode'];\n",
       "}\n",
       "\n",
       "mpl.figure.prototype.updated_canvas_event = function() {\n",
       "    // Called whenever the canvas gets updated.\n",
       "    this.send_message(\"ack\", {});\n",
       "}\n",
       "\n",
       "// A function to construct a web socket function for onmessage handling.\n",
       "// Called in the figure constructor.\n",
       "mpl.figure.prototype._make_on_message_function = function(fig) {\n",
       "    return function socket_on_message(evt) {\n",
       "        if (evt.data instanceof Blob) {\n",
       "            /* FIXME: We get \"Resource interpreted as Image but\n",
       "             * transferred with MIME type text/plain:\" errors on\n",
       "             * Chrome.  But how to set the MIME type?  It doesn't seem\n",
       "             * to be part of the websocket stream */\n",
       "            evt.data.type = \"image/png\";\n",
       "\n",
       "            /* Free the memory for the previous frames */\n",
       "            if (fig.imageObj.src) {\n",
       "                (window.URL || window.webkitURL).revokeObjectURL(\n",
       "                    fig.imageObj.src);\n",
       "            }\n",
       "\n",
       "            fig.imageObj.src = (window.URL || window.webkitURL).createObjectURL(\n",
       "                evt.data);\n",
       "            fig.updated_canvas_event();\n",
       "            fig.waiting = false;\n",
       "            return;\n",
       "        }\n",
       "        else if (typeof evt.data === 'string' && evt.data.slice(0, 21) == \"data:image/png;base64\") {\n",
       "            fig.imageObj.src = evt.data;\n",
       "            fig.updated_canvas_event();\n",
       "            fig.waiting = false;\n",
       "            return;\n",
       "        }\n",
       "\n",
       "        var msg = JSON.parse(evt.data);\n",
       "        var msg_type = msg['type'];\n",
       "\n",
       "        // Call the  \"handle_{type}\" callback, which takes\n",
       "        // the figure and JSON message as its only arguments.\n",
       "        try {\n",
       "            var callback = fig[\"handle_\" + msg_type];\n",
       "        } catch (e) {\n",
       "            console.log(\"No handler for the '\" + msg_type + \"' message type: \", msg);\n",
       "            return;\n",
       "        }\n",
       "\n",
       "        if (callback) {\n",
       "            try {\n",
       "                // console.log(\"Handling '\" + msg_type + \"' message: \", msg);\n",
       "                callback(fig, msg);\n",
       "            } catch (e) {\n",
       "                console.log(\"Exception inside the 'handler_\" + msg_type + \"' callback:\", e, e.stack, msg);\n",
       "            }\n",
       "        }\n",
       "    };\n",
       "}\n",
       "\n",
       "// from http://stackoverflow.com/questions/1114465/getting-mouse-location-in-canvas\n",
       "mpl.findpos = function(e) {\n",
       "    //this section is from http://www.quirksmode.org/js/events_properties.html\n",
       "    var targ;\n",
       "    if (!e)\n",
       "        e = window.event;\n",
       "    if (e.target)\n",
       "        targ = e.target;\n",
       "    else if (e.srcElement)\n",
       "        targ = e.srcElement;\n",
       "    if (targ.nodeType == 3) // defeat Safari bug\n",
       "        targ = targ.parentNode;\n",
       "\n",
       "    // jQuery normalizes the pageX and pageY\n",
       "    // pageX,Y are the mouse positions relative to the document\n",
       "    // offset() returns the position of the element relative to the document\n",
       "    var x = e.pageX - $(targ).offset().left;\n",
       "    var y = e.pageY - $(targ).offset().top;\n",
       "\n",
       "    return {\"x\": x, \"y\": y};\n",
       "};\n",
       "\n",
       "/*\n",
       " * return a copy of an object with only non-object keys\n",
       " * we need this to avoid circular references\n",
       " * http://stackoverflow.com/a/24161582/3208463\n",
       " */\n",
       "function simpleKeys (original) {\n",
       "  return Object.keys(original).reduce(function (obj, key) {\n",
       "    if (typeof original[key] !== 'object')\n",
       "        obj[key] = original[key]\n",
       "    return obj;\n",
       "  }, {});\n",
       "}\n",
       "\n",
       "mpl.figure.prototype.mouse_event = function(event, name) {\n",
       "    var canvas_pos = mpl.findpos(event)\n",
       "\n",
       "    if (name === 'button_press')\n",
       "    {\n",
       "        this.canvas.focus();\n",
       "        this.canvas_div.focus();\n",
       "    }\n",
       "\n",
       "    var x = canvas_pos.x * mpl.ratio;\n",
       "    var y = canvas_pos.y * mpl.ratio;\n",
       "\n",
       "    this.send_message(name, {x: x, y: y, button: event.button,\n",
       "                             step: event.step,\n",
       "                             guiEvent: simpleKeys(event)});\n",
       "\n",
       "    /* This prevents the web browser from automatically changing to\n",
       "     * the text insertion cursor when the button is pressed.  We want\n",
       "     * to control all of the cursor setting manually through the\n",
       "     * 'cursor' event from matplotlib */\n",
       "    event.preventDefault();\n",
       "    return false;\n",
       "}\n",
       "\n",
       "mpl.figure.prototype._key_event_extra = function(event, name) {\n",
       "    // Handle any extra behaviour associated with a key event\n",
       "}\n",
       "\n",
       "mpl.figure.prototype.key_event = function(event, name) {\n",
       "\n",
       "    // Prevent repeat events\n",
       "    if (name == 'key_press')\n",
       "    {\n",
       "        if (event.which === this._key)\n",
       "            return;\n",
       "        else\n",
       "            this._key = event.which;\n",
       "    }\n",
       "    if (name == 'key_release')\n",
       "        this._key = null;\n",
       "\n",
       "    var value = '';\n",
       "    if (event.ctrlKey && event.which != 17)\n",
       "        value += \"ctrl+\";\n",
       "    if (event.altKey && event.which != 18)\n",
       "        value += \"alt+\";\n",
       "    if (event.shiftKey && event.which != 16)\n",
       "        value += \"shift+\";\n",
       "\n",
       "    value += 'k';\n",
       "    value += event.which.toString();\n",
       "\n",
       "    this._key_event_extra(event, name);\n",
       "\n",
       "    this.send_message(name, {key: value,\n",
       "                             guiEvent: simpleKeys(event)});\n",
       "    return false;\n",
       "}\n",
       "\n",
       "mpl.figure.prototype.toolbar_button_onclick = function(name) {\n",
       "    if (name == 'download') {\n",
       "        this.handle_save(this, null);\n",
       "    } else {\n",
       "        this.send_message(\"toolbar_button\", {name: name});\n",
       "    }\n",
       "};\n",
       "\n",
       "mpl.figure.prototype.toolbar_button_onmouseover = function(tooltip) {\n",
       "    this.message.textContent = tooltip;\n",
       "};\n",
       "mpl.toolbar_items = [[\"Home\", \"Reset original view\", \"fa fa-home icon-home\", \"home\"], [\"Back\", \"Back to previous view\", \"fa fa-arrow-left icon-arrow-left\", \"back\"], [\"Forward\", \"Forward to next view\", \"fa fa-arrow-right icon-arrow-right\", \"forward\"], [\"\", \"\", \"\", \"\"], [\"Pan\", \"Pan axes with left mouse, zoom with right\", \"fa fa-arrows icon-move\", \"pan\"], [\"Zoom\", \"Zoom to rectangle\", \"fa fa-square-o icon-check-empty\", \"zoom\"], [\"\", \"\", \"\", \"\"], [\"Download\", \"Download plot\", \"fa fa-floppy-o icon-save\", \"download\"]];\n",
       "\n",
       "mpl.extensions = [\"eps\", \"pdf\", \"png\", \"ps\", \"raw\", \"svg\"];\n",
       "\n",
       "mpl.default_extension = \"png\";var comm_websocket_adapter = function(comm) {\n",
       "    // Create a \"websocket\"-like object which calls the given IPython comm\n",
       "    // object with the appropriate methods. Currently this is a non binary\n",
       "    // socket, so there is still some room for performance tuning.\n",
       "    var ws = {};\n",
       "\n",
       "    ws.close = function() {\n",
       "        comm.close()\n",
       "    };\n",
       "    ws.send = function(m) {\n",
       "        //console.log('sending', m);\n",
       "        comm.send(m);\n",
       "    };\n",
       "    // Register the callback with on_msg.\n",
       "    comm.on_msg(function(msg) {\n",
       "        //console.log('receiving', msg['content']['data'], msg);\n",
       "        // Pass the mpl event to the overridden (by mpl) onmessage function.\n",
       "        ws.onmessage(msg['content']['data'])\n",
       "    });\n",
       "    return ws;\n",
       "}\n",
       "\n",
       "mpl.mpl_figure_comm = function(comm, msg) {\n",
       "    // This is the function which gets called when the mpl process\n",
       "    // starts-up an IPython Comm through the \"matplotlib\" channel.\n",
       "\n",
       "    var id = msg.content.data.id;\n",
       "    // Get hold of the div created by the display call when the Comm\n",
       "    // socket was opened in Python.\n",
       "    var element = $(\"#\" + id);\n",
       "    var ws_proxy = comm_websocket_adapter(comm)\n",
       "\n",
       "    function ondownload(figure, format) {\n",
       "        window.open(figure.imageObj.src);\n",
       "    }\n",
       "\n",
       "    var fig = new mpl.figure(id, ws_proxy,\n",
       "                           ondownload,\n",
       "                           element.get(0));\n",
       "\n",
       "    // Call onopen now - mpl needs it, as it is assuming we've passed it a real\n",
       "    // web socket which is closed, not our websocket->open comm proxy.\n",
       "    ws_proxy.onopen();\n",
       "\n",
       "    fig.parent_element = element.get(0);\n",
       "    fig.cell_info = mpl.find_output_cell(\"<div id='\" + id + \"'></div>\");\n",
       "    if (!fig.cell_info) {\n",
       "        console.error(\"Failed to find cell for figure\", id, fig);\n",
       "        return;\n",
       "    }\n",
       "\n",
       "    var output_index = fig.cell_info[2]\n",
       "    var cell = fig.cell_info[0];\n",
       "\n",
       "};\n",
       "\n",
       "mpl.figure.prototype.handle_close = function(fig, msg) {\n",
       "    var width = fig.canvas.width/mpl.ratio\n",
       "    fig.root.unbind('remove')\n",
       "\n",
       "    // Update the output cell to use the data from the current canvas.\n",
       "    fig.push_to_output();\n",
       "    var dataURL = fig.canvas.toDataURL();\n",
       "    // Re-enable the keyboard manager in IPython - without this line, in FF,\n",
       "    // the notebook keyboard shortcuts fail.\n",
       "    IPython.keyboard_manager.enable()\n",
       "    $(fig.parent_element).html('<img src=\"' + dataURL + '\" width=\"' + width + '\">');\n",
       "    fig.close_ws(fig, msg);\n",
       "}\n",
       "\n",
       "mpl.figure.prototype.close_ws = function(fig, msg){\n",
       "    fig.send_message('closing', msg);\n",
       "    // fig.ws.close()\n",
       "}\n",
       "\n",
       "mpl.figure.prototype.push_to_output = function(remove_interactive) {\n",
       "    // Turn the data on the canvas into data in the output cell.\n",
       "    var width = this.canvas.width/mpl.ratio\n",
       "    var dataURL = this.canvas.toDataURL();\n",
       "    this.cell_info[1]['text/html'] = '<img src=\"' + dataURL + '\" width=\"' + width + '\">';\n",
       "}\n",
       "\n",
       "mpl.figure.prototype.updated_canvas_event = function() {\n",
       "    // Tell IPython that the notebook contents must change.\n",
       "    IPython.notebook.set_dirty(true);\n",
       "    this.send_message(\"ack\", {});\n",
       "    var fig = this;\n",
       "    // Wait a second, then push the new image to the DOM so\n",
       "    // that it is saved nicely (might be nice to debounce this).\n",
       "    setTimeout(function () { fig.push_to_output() }, 1000);\n",
       "}\n",
       "\n",
       "mpl.figure.prototype._init_toolbar = function() {\n",
       "    var fig = this;\n",
       "\n",
       "    var nav_element = $('<div/>');\n",
       "    nav_element.attr('style', 'width: 100%');\n",
       "    this.root.append(nav_element);\n",
       "\n",
       "    // Define a callback function for later on.\n",
       "    function toolbar_event(event) {\n",
       "        return fig.toolbar_button_onclick(event['data']);\n",
       "    }\n",
       "    function toolbar_mouse_event(event) {\n",
       "        return fig.toolbar_button_onmouseover(event['data']);\n",
       "    }\n",
       "\n",
       "    for(var toolbar_ind in mpl.toolbar_items){\n",
       "        var name = mpl.toolbar_items[toolbar_ind][0];\n",
       "        var tooltip = mpl.toolbar_items[toolbar_ind][1];\n",
       "        var image = mpl.toolbar_items[toolbar_ind][2];\n",
       "        var method_name = mpl.toolbar_items[toolbar_ind][3];\n",
       "\n",
       "        if (!name) { continue; };\n",
       "\n",
       "        var button = $('<button class=\"btn btn-default\" href=\"#\" title=\"' + name + '\"><i class=\"fa ' + image + ' fa-lg\"></i></button>');\n",
       "        button.click(method_name, toolbar_event);\n",
       "        button.mouseover(tooltip, toolbar_mouse_event);\n",
       "        nav_element.append(button);\n",
       "    }\n",
       "\n",
       "    // Add the status bar.\n",
       "    var status_bar = $('<span class=\"mpl-message\" style=\"text-align:right; float: right;\"/>');\n",
       "    nav_element.append(status_bar);\n",
       "    this.message = status_bar[0];\n",
       "\n",
       "    // Add the close button to the window.\n",
       "    var buttongrp = $('<div class=\"btn-group inline pull-right\"></div>');\n",
       "    var button = $('<button class=\"btn btn-mini btn-primary\" href=\"#\" title=\"Stop Interaction\"><i class=\"fa fa-power-off icon-remove icon-large\"></i></button>');\n",
       "    button.click(function (evt) { fig.handle_close(fig, {}); } );\n",
       "    button.mouseover('Stop Interaction', toolbar_mouse_event);\n",
       "    buttongrp.append(button);\n",
       "    var titlebar = this.root.find($('.ui-dialog-titlebar'));\n",
       "    titlebar.prepend(buttongrp);\n",
       "}\n",
       "\n",
       "mpl.figure.prototype._root_extra_style = function(el){\n",
       "    var fig = this\n",
       "    el.on(\"remove\", function(){\n",
       "\tfig.close_ws(fig, {});\n",
       "    });\n",
       "}\n",
       "\n",
       "mpl.figure.prototype._canvas_extra_style = function(el){\n",
       "    // this is important to make the div 'focusable\n",
       "    el.attr('tabindex', 0)\n",
       "    // reach out to IPython and tell the keyboard manager to turn it's self\n",
       "    // off when our div gets focus\n",
       "\n",
       "    // location in version 3\n",
       "    if (IPython.notebook.keyboard_manager) {\n",
       "        IPython.notebook.keyboard_manager.register_events(el);\n",
       "    }\n",
       "    else {\n",
       "        // location in version 2\n",
       "        IPython.keyboard_manager.register_events(el);\n",
       "    }\n",
       "\n",
       "}\n",
       "\n",
       "mpl.figure.prototype._key_event_extra = function(event, name) {\n",
       "    var manager = IPython.notebook.keyboard_manager;\n",
       "    if (!manager)\n",
       "        manager = IPython.keyboard_manager;\n",
       "\n",
       "    // Check for shift+enter\n",
       "    if (event.shiftKey && event.which == 13) {\n",
       "        this.canvas_div.blur();\n",
       "        // select the cell after this one\n",
       "        var index = IPython.notebook.find_cell_index(this.cell_info[0]);\n",
       "        IPython.notebook.select(index + 1);\n",
       "    }\n",
       "}\n",
       "\n",
       "mpl.figure.prototype.handle_save = function(fig, msg) {\n",
       "    fig.ondownload(fig, null);\n",
       "}\n",
       "\n",
       "\n",
       "mpl.find_output_cell = function(html_output) {\n",
       "    // Return the cell and output element which can be found *uniquely* in the notebook.\n",
       "    // Note - this is a bit hacky, but it is done because the \"notebook_saving.Notebook\"\n",
       "    // IPython event is triggered only after the cells have been serialised, which for\n",
       "    // our purposes (turning an active figure into a static one), is too late.\n",
       "    var cells = IPython.notebook.get_cells();\n",
       "    var ncells = cells.length;\n",
       "    for (var i=0; i<ncells; i++) {\n",
       "        var cell = cells[i];\n",
       "        if (cell.cell_type === 'code'){\n",
       "            for (var j=0; j<cell.output_area.outputs.length; j++) {\n",
       "                var data = cell.output_area.outputs[j];\n",
       "                if (data.data) {\n",
       "                    // IPython >= 3 moved mimebundle to data attribute of output\n",
       "                    data = data.data;\n",
       "                }\n",
       "                if (data['text/html'] == html_output) {\n",
       "                    return [cell, data, j];\n",
       "                }\n",
       "            }\n",
       "        }\n",
       "    }\n",
       "}\n",
       "\n",
       "// Register the function which deals with the matplotlib target/channel.\n",
       "// The kernel may be null if the page has been refreshed.\n",
       "if (IPython.notebook.kernel != null) {\n",
       "    IPython.notebook.kernel.comm_manager.register_target('matplotlib', mpl.mpl_figure_comm);\n",
       "}\n"
      ],
      "text/plain": [
       "<IPython.core.display.Javascript object>"
      ]
     },
     "metadata": {},
     "output_type": "display_data"
    },
    {
     "data": {
      "text/html": [
       "<img src=\"data:image/png;base64,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\" width=\"640\">"
      ],
      "text/plain": [
       "<IPython.core.display.HTML object>"
      ]
     },
     "metadata": {},
     "output_type": "display_data"
    }
   ],
   "source": [
    "x = np.arange(0,3*np.pi,0.1)\n",
    "\n",
    "y = np.sin(x)\n",
    "\n",
    "plt.figure()\n",
    "plt.plot(x,y)\n",
    "plt.draw()"
   ]
  },
  {
   "cell_type": "code",
   "execution_count": null,
   "metadata": {
    "collapsed": true
   },
   "outputs": [],
   "source": []
  }
 ],
 "metadata": {
  "anaconda-cloud": {},
  "kernelspec": {
   "display_name": "Python 3",
   "language": "python",
   "name": "python3"
  },
  "language_info": {
   "codemirror_mode": {
    "name": "ipython",
    "version": 3
   },
   "file_extension": ".py",
   "mimetype": "text/x-python",
   "name": "python",
   "nbconvert_exporter": "python",
   "pygments_lexer": "ipython3",
   "version": "3.6.10"
  }
 },
 "nbformat": 4,
 "nbformat_minor": 1
}
