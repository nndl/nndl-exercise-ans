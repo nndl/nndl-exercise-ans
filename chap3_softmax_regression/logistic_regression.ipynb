{
 "cells": [
  {
   "cell_type": "markdown",
   "metadata": {},
   "source": [
    "# Logistic Regression Example"
   ]
  },
  {
   "cell_type": "markdown",
   "metadata": {},
   "source": [
    "### 生成数据集， 看明白即可无需填写代码\n",
    "#### '<font color=\"blue\">+</font>' 从高斯分布采样 (X, Y) ~ N(3, 6, 1, 1, 0).<br>\n",
    "#### '<font color=\"green\">o</font>' 从高斯分布采样  (X, Y) ~ N(6, 3, 1, 1, 0)<br>"
   ]
  },
  {
   "cell_type": "code",
   "execution_count": 1,
   "metadata": {},
   "outputs": [
    {
     "data": {
      "image/png": "[encoded data removed]",
      "text/plain": [
       "<Figure size 432x288 with 1 Axes>"
      ]
     },
     "metadata": {},
     "output_type": "display_data"
    }
   ],
   "source": [
    "import tensorflow as tf\n",
    "import matplotlib.pyplot as plt\n",
    "\n",
    "from matplotlib import animation, rc\n",
    "from IPython.display import HTML\n",
    "import matplotlib.cm as cm\n",
    "import numpy as np\n",
    "%matplotlib inline\n",
    "\n",
    "dot_num = 100\n",
    "x_p = np.random.normal(3., 1, dot_num)\n",
    "y_p = np.random.normal(6., 1, dot_num)\n",
    "y = np.ones(dot_num)\n",
    "C1 = np.array([x_p, y_p, y]).T\n",
    "\n",
    "x_n = np.random.normal(6., 1, dot_num)\n",
    "y_n = np.random.normal(3., 1, dot_num)\n",
    "y = np.zeros(dot_num)\n",
    "C2 = np.array([x_n, y_n, y]).T\n",
    "\n",
    "plt.scatter(C1[:, 0], C1[:, 1], c='b', marker='+')\n",
    "plt.scatter(C2[:, 0], C2[:, 1], c='g', marker='o')\n",
    "\n",
    "data_set = np.concatenate((C1, C2), axis=0)\n",
    "np.random.shuffle(data_set)\n"
   ]
  },
  {
   "cell_type": "markdown",
   "metadata": {},
   "source": [
    "## 建立模型\n",
    "建立模型类，定义loss函数，定义一步梯度下降过程函数"
   ]
  },
  {
   "cell_type": "code",
   "execution_count": 2,
   "metadata": {
    "collapsed": true
   },
   "outputs": [],
   "source": [
    "epsilon = 1e-12\n",
    "class LogisticRegression():\n",
    "    def __init__(self):\n",
    "        self.W = tf.Variable(shape=[2, 1], dtype=tf.float32, \n",
    "            initial_value=tf.random.uniform(shape=[2, 1], minval=-0.1, maxval=0.1))\n",
    "        self.b = tf.Variable(shape=[1], dtype=tf.float32, initial_value=tf.zeros(shape=[1]))\n",
    "        \n",
    "        self.trainable_variables = [self.W, self.b]\n",
    "    @tf.function\n",
    "    def __call__(self, inp):\n",
    "        logits = tf.matmul(inp, self.W) + self.b # shape(N, 1)\n",
    "        pred = tf.nn.sigmoid(logits)\n",
    "        return pred\n",
    "\n",
    "@tf.function\n",
    "def compute_loss(pred, label):\n",
    "    if not isinstance(label, tf.Tensor):\n",
    "        label = tf.constant(label, dtype=tf.float32)\n",
    "    pred = tf.squeeze(pred, axis=1)\n",
    "    losses = -label*tf.math.log(pred+epsilon) - (1.-label)* tf.math.log(1.-pred+epsilon)\n",
    "#     losses = tf.nn.sigmoid_cross_entropy_with_logits(label, pred)\n",
    "    loss = tf.reduce_mean(losses)\n",
    "    \n",
    "    pred = tf.where(pred>0.5, tf.ones_like(pred), tf.zeros_like(pred))\n",
    "    accuracy = tf.reduce_mean(tf.cast(tf.equal(label, pred), dtype=tf.float32))\n",
    "    return loss, accuracy\n",
    "@tf.function\n",
    "def train_one_step(model, optimizer, x, y):\n",
    "    with tf.GradientTape() as tape:\n",
    "        pred = model(x)\n",
    "        loss, accuracy = compute_loss(pred, y)\n",
    "        \n",
    "    grads = tape.gradient(loss, model.trainable_variables)\n",
    "    optimizer.apply_gradients(zip(grads, model.trainable_variables))\n",
    "    return loss, accuracy, model.W, model.b"
   ]
  },
  {
   "cell_type": "markdown",
   "metadata": {},
   "source": [
    "### 实例化一个模型，进行训练"
   ]
  },
  {
   "cell_type": "code",
   "execution_count": 3,
   "metadata": {},
   "outputs": [
    {
     "name": "stdout",
     "output_type": "stream",
     "text": [
      "loss: 0.7603\t accuracy: 0.5\n",
      "loss: 0.5395\t accuracy: 0.95\n",
      "loss: 0.4329\t accuracy: 0.985\n",
      "loss: 0.3646\t accuracy: 0.99\n",
      "loss: 0.3178\t accuracy: 0.99\n",
      "loss: 0.2838\t accuracy: 0.99\n",
      "loss: 0.2581\t accuracy: 0.99\n",
      "loss: 0.2379\t accuracy: 0.99\n",
      "loss: 0.2216\t accuracy: 0.99\n",
      "loss: 0.2082\t accuracy: 0.99\n"
     ]
    }
   ],
   "source": [
    "if __name__ == '__main__':\n",
    "    model = LogisticRegression()\n",
    "    opt = tf.keras.optimizers.SGD(learning_rate=0.01)\n",
    "    x1, x2, y = list(zip(*data_set))\n",
    "    x = list(zip(x1, x2))\n",
    "    animation_fram = []\n",
    "    \n",
    "    for i in range(200):\n",
    "        loss, accuracy, W_opt, b_opt = train_one_step(model, opt, x, y)\n",
    "        animation_fram.append((W_opt.numpy()[0, 0], W_opt.numpy()[1, 0], b_opt.numpy(), loss.numpy()))\n",
    "        if i%20 == 0:\n",
    "            print(f'loss: {loss.numpy():.4}\\t accuracy: {accuracy.numpy():.4}')"
   ]
  },
  {
   "cell_type": "markdown",
   "metadata": {},
   "source": [
    "## 结果展示，无需填写代码"
   ]
  },
  {
   "cell_type": "code",
   "execution_count": 4,
   "metadata": {},
   "outputs": [
    {
     "ename": "RuntimeError",
     "evalue": "Requested MovieWriter (ffmpeg) not available",
     "output_type": "error",
     "traceback": [
      "\u001B[1;31m---------------------------------------------------------------------------\u001B[0m",
      "\u001B[1;31mRuntimeError\u001B[0m                              Traceback (most recent call last)",
      "\u001B[1;32m<ipython-input-4-6891995c0ec1>\u001B[0m in \u001B[0;36m<module>\u001B[1;34m()\u001B[0m\n\u001B[0;32m     39\u001B[0m                                frames=len(animation_fram), interval=30, blit=True)\n\u001B[0;32m     40\u001B[0m \u001B[1;33m\u001B[0m\u001B[0m\n\u001B[1;32m---> 41\u001B[1;33m \u001B[0mHTML\u001B[0m\u001B[1;33m(\u001B[0m\u001B[0manim\u001B[0m\u001B[1;33m.\u001B[0m\u001B[0mto_html5_video\u001B[0m\u001B[1;33m(\u001B[0m\u001B[1;33m)\u001B[0m\u001B[1;33m)\u001B[0m\u001B[1;33m\u001B[0m\u001B[1;33m\u001B[0m\u001B[0m\n\u001B[0m\u001B[0;32m     42\u001B[0m \u001B[1;33m\u001B[0m\u001B[0m\n",
      "\u001B[1;32mC:\\ProgramData\\Anaconda3\\envs\\tf-gpu-cuda8\\lib\\site-packages\\matplotlib\\animation.py\u001B[0m in \u001B[0;36mto_html5_video\u001B[1;34m(self, embed_limit)\u001B[0m\n\u001B[0;32m   1326\u001B[0m                 \u001B[1;31m# We create a writer manually so that we can get the\u001B[0m\u001B[1;33m\u001B[0m\u001B[1;33m\u001B[0m\u001B[1;33m\u001B[0m\u001B[0m\n\u001B[0;32m   1327\u001B[0m                 \u001B[1;31m# appropriate size for the tag\u001B[0m\u001B[1;33m\u001B[0m\u001B[1;33m\u001B[0m\u001B[1;33m\u001B[0m\u001B[0m\n\u001B[1;32m-> 1328\u001B[1;33m                 \u001B[0mWriter\u001B[0m \u001B[1;33m=\u001B[0m \u001B[0mwriters\u001B[0m\u001B[1;33m[\u001B[0m\u001B[0mrcParams\u001B[0m\u001B[1;33m[\u001B[0m\u001B[1;34m'animation.writer'\u001B[0m\u001B[1;33m]\u001B[0m\u001B[1;33m]\u001B[0m\u001B[1;33m\u001B[0m\u001B[1;33m\u001B[0m\u001B[0m\n\u001B[0m\u001B[0;32m   1329\u001B[0m                 writer = Writer(codec='h264',\n\u001B[0;32m   1330\u001B[0m                                 \u001B[0mbitrate\u001B[0m\u001B[1;33m=\u001B[0m\u001B[0mrcParams\u001B[0m\u001B[1;33m[\u001B[0m\u001B[1;34m'animation.bitrate'\u001B[0m\u001B[1;33m]\u001B[0m\u001B[1;33m,\u001B[0m\u001B[1;33m\u001B[0m\u001B[1;33m\u001B[0m\u001B[0m\n",
      "\u001B[1;32mC:\\ProgramData\\Anaconda3\\envs\\tf-gpu-cuda8\\lib\\site-packages\\matplotlib\\animation.py\u001B[0m in \u001B[0;36m__getitem__\u001B[1;34m(self, name)\u001B[0m\n\u001B[0;32m    162\u001B[0m         \u001B[1;32mif\u001B[0m \u001B[0mself\u001B[0m\u001B[1;33m.\u001B[0m\u001B[0mis_available\u001B[0m\u001B[1;33m(\u001B[0m\u001B[0mname\u001B[0m\u001B[1;33m)\u001B[0m\u001B[1;33m:\u001B[0m\u001B[1;33m\u001B[0m\u001B[1;33m\u001B[0m\u001B[0m\n\u001B[0;32m    163\u001B[0m             \u001B[1;32mreturn\u001B[0m \u001B[0mself\u001B[0m\u001B[1;33m.\u001B[0m\u001B[0m_registered\u001B[0m\u001B[1;33m[\u001B[0m\u001B[0mname\u001B[0m\u001B[1;33m]\u001B[0m\u001B[1;33m\u001B[0m\u001B[1;33m\u001B[0m\u001B[0m\n\u001B[1;32m--> 164\u001B[1;33m         \u001B[1;32mraise\u001B[0m \u001B[0mRuntimeError\u001B[0m\u001B[1;33m(\u001B[0m\u001B[1;34mf\"Requested MovieWriter ({name}) not available\"\u001B[0m\u001B[1;33m)\u001B[0m\u001B[1;33m\u001B[0m\u001B[1;33m\u001B[0m\u001B[0m\n\u001B[0m\u001B[0;32m    165\u001B[0m \u001B[1;33m\u001B[0m\u001B[0m\n\u001B[0;32m    166\u001B[0m \u001B[1;33m\u001B[0m\u001B[0m\n",
      "\u001B[1;31mRuntimeError\u001B[0m: Requested MovieWriter (ffmpeg) not available"
     ]
    },
    {
     "data": {
      "image/png": "[encoded data removed]",
      "text/plain": [
       "<Figure size 432x288 with 1 Axes>"
      ]
     },
     "metadata": {},
     "output_type": "display_data"
    }
   ],
   "source": [
    "\n",
    "f, ax = plt.subplots(figsize=(6,4))\n",
    "f.suptitle('Logistic Regression Example', fontsize=15)\n",
    "plt.ylabel('Y')\n",
    "plt.xlabel('X')\n",
    "ax.set_xlim(0, 10)\n",
    "ax.set_ylim(0, 10)\n",
    "\n",
    "line_d, = ax.plot([], [], label='fit_line')\n",
    "C1_dots, = ax.plot([], [], '+', c='b', label='actual_dots')\n",
    "C2_dots, = ax.plot([], [], 'o', c='g' ,label='actual_dots')\n",
    "\n",
    "\n",
    "frame_text = ax.text(0.02, 0.95,'',horizontalalignment='left',verticalalignment='top', transform=ax.transAxes)\n",
    "# ax.legend()\n",
    "\n",
    "def init():\n",
    "    line_d.set_data([],[])\n",
    "    C1_dots.set_data([],[])\n",
    "    C2_dots.set_data([],[])\n",
    "    return (line_d,) + (C1_dots,) + (C2_dots,)\n",
    "\n",
    "def animate(i):\n",
    "    xx = np.arange(10, step=0.1)\n",
    "    a = animation_fram[i][0]\n",
    "    b = animation_fram[i][1]\n",
    "    c = animation_fram[i][2]\n",
    "    yy = a/-b * xx +c/-b\n",
    "    line_d.set_data(xx, yy)\n",
    "        \n",
    "    C1_dots.set_data(C1[:, 0], C1[:, 1])\n",
    "    C2_dots.set_data(C2[:, 0], C2[:, 1])\n",
    "    \n",
    "    frame_text.set_text('Timestep = %.1d/%.1d\\nLoss = %.3f' % (i, len(animation_fram), animation_fram[i][3]))\n",
    "    \n",
    "    return (line_d,) + (C1_dots,) + (C2_dots,)\n",
    "\n",
    "anim = animation.FuncAnimation(f, animate, init_func=init,\n",
    "                               frames=len(animation_fram), interval=30, blit=True)\n",
    "\n",
    "HTML(anim.to_html5_video())\n",
    "\n"
   ]
  },
  {
   "cell_type": "code",
   "execution_count": null,
   "metadata": {
    "collapsed": true
   },
   "outputs": [],
   "source": []
  }
 ],
 "metadata": {
  "kernelspec": {
   "display_name": "Python 3",
   "language": "python",
   "name": "python3"
  },
  "language_info": {
   "codemirror_mode": {
    "name": "ipython",
    "version": 3
   },
   "file_extension": ".py",
   "mimetype": "text/x-python",
   "name": "python",
   "nbconvert_exporter": "python",
   "pygments_lexer": "ipython3",
   "version": "3.6.10"
  }
 },
 "nbformat": 4,
 "nbformat_minor": 1
}